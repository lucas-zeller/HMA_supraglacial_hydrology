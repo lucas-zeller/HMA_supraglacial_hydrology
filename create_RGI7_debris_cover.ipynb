{
 "cells": [
  {
   "cell_type": "markdown",
   "id": "7afc8cee-fb68-459f-8172-e2cf4b42bdb1",
   "metadata": {},
   "source": [
    "Process for creating debris cover masks for RGI v7.0 outlines."
   ]
  },
  {
   "cell_type": "code",
   "execution_count": 1,
   "id": "4589cbed-ab3e-4663-ae7b-486569421798",
   "metadata": {
    "tags": []
   },
   "outputs": [],
   "source": [
    "import os\n",
    "import rasterio as rio\n",
    "import numpy as np\n",
    "import shapely\n",
    "import pyproj\n",
    "import geopandas as gpd\n",
    "import matplotlib.pyplot as plt\n",
    "import rioxarray as riox\n",
    "import rasterio as rio\n",
    "import xarray as xr\n",
    "import pandas as pd\n",
    "from datetime import timedelta\n",
    "from datetime import datetime"
   ]
  },
  {
   "cell_type": "code",
   "execution_count": 2,
   "id": "238e608f-29fe-4a0a-86c3-cccbd504ea74",
   "metadata": {
    "tags": []
   },
   "outputs": [],
   "source": [
    "# define folder and file paths\n",
    "folder_HMA = os.path.join('C:',os.sep,'Users','lzell','OneDrive - Colostate','Desktop',\"HMA2\")\n",
    "folder_debris = os.path.join(folder_HMA, 'Datasets', 'debris cover')\n",
    "folder_rgi = os.path.join(folder_HMA, 'Datasets', 'RGI')"
   ]
  },
  {
   "cell_type": "code",
   "execution_count": 3,
   "id": "7d5f8bee-242c-4d88-a365-d02603e60706",
   "metadata": {
    "tags": []
   },
   "outputs": [],
   "source": [
    "# open csvs that allow us to link rgiids between v6 and v7\n",
    "link_13 = pd.read_csv(os.path.join(folder_rgi, 'links', 'RGI2000-v7.0-G-13_central_asia-rgi6_links.csv'))\n",
    "link_14 = pd.read_csv(os.path.join(folder_rgi, 'links', 'RGI2000-v7.0-G-14_south_asia_west-rgi6_links.csv'))\n",
    "link_15 = pd.read_csv(os.path.join(folder_rgi, 'links', 'RGI2000-v7.0-G-15_south_asia_east-rgi6_links.csv'))\n",
    "# link_15.head()"
   ]
  },
  {
   "cell_type": "code",
   "execution_count": 4,
   "id": "314e41a4-4179-4dab-9e89-4fe4a71c7736",
   "metadata": {
    "tags": []
   },
   "outputs": [],
   "source": [
    "##### open RGI v7 and herreid2020 data\n",
    "\n",
    "# herreid debris cover, herreid glacier extents, rgi v7, and then fix 3d geometry\n",
    "h_dc_15 = gpd.read_file(os.path.join(folder_debris, 'Herreid2020', '15SouthAsiaEast', '15SouthAsiaEast_minGl1km2_debrisCover.shp')).to_crs(\"ESRI:102025\")\n",
    "h_g_15 = gpd.read_file(os.path.join(folder_debris, 'Herreid2020', '15SouthAsiaEast', '15SouthAsiaEast_minGl1km2.shp')).to_crs(\"ESRI:102025\")\n",
    "rgi_15 = gpd.read_file(os.path.join(folder_rgi, 'v7', 'G', 'RGI2000-v7.0-G-15_south_asia_east', 'RGI2000-v7.0-G-15_south_asia_east.shp')).to_crs(\"ESRI:102025\")\n",
    "rgi_15['geometry'] = gpd.GeoSeries.from_wkb(rgi_15.to_wkb(output_dimension=2).geometry)\n",
    "\n",
    "h_dc_13 = gpd.read_file(os.path.join(folder_debris, 'Herreid2020', '13CentralAsia', '13CentralAsia_minGl1km2_debrisCover.shp')).to_crs(\"ESRI:102025\")\n",
    "h_g_13 = gpd.read_file(os.path.join(folder_debris, 'Herreid2020', '13CentralAsia', '13CentralAsia_minGl1km2.shp')).to_crs(\"ESRI:102025\")\n",
    "rgi_13 = gpd.read_file(os.path.join(folder_rgi, 'v7', 'G', 'RGI2000-v7.0-G-13_central_asia', 'RGI2000-v7.0-G-15_central_asia.shp')).to_crs(\"ESRI:102025\")\n",
    "rgi_13['geometry'] = gpd.GeoSeries.from_wkb(rgi_13.to_wkb(output_dimension=2).geometry)\n",
    "\n",
    "h_dc_14 = gpd.read_file(os.path.join(folder_debris, 'Herreid2020', '14SouthAsiaWest', '14SouthAsiaWest_minGl1km2_debrisCover.shp')).to_crs(\"ESRI:102025\")\n",
    "h_g_14 = gpd.read_file(os.path.join(folder_debris, 'Herreid2020', '14SouthAsiaWest', '14SouthAsiaWest_minGl1km2.shp')).to_crs(\"ESRI:102025\")\n",
    "rgi_14 = gpd.read_file(os.path.join(folder_rgi, 'v7', 'G', 'RGI2000-v7.0-G-14_south_asia_west', 'RGI2000-v7.0-G-15_south_asia_west.shp')).to_crs(\"ESRI:102025\")\n",
    "rgi_14['geometry'] = gpd.GeoSeries.from_wkb(rgi_14.to_wkb(output_dimension=2).geometry)\n",
    "\n",
    "### rename the rgiids in herreid datasets (they say 50 instead of 60)\n",
    "h_g_13 = h_g_13.rename(columns={\"RGIId\": \"RGIId_old\"})\n",
    "h_g_13['RGIId_6'] = [ f\"RGI60-{r[-8:]}\" for r in h_g_15['RGIId_old']]\n",
    "\n",
    "h_g_14 = h_g_14.rename(columns={\"RGIId\": \"RGIId_old\"})\n",
    "h_g_14['RGIId_6'] = [ f\"RGI60-{r[-8:]}\" for r in h_g_15['RGIId_old']]\n",
    "\n",
    "h_g_15 = h_g_15.rename(columns={\"RGIId\": \"RGIId_old\"})\n",
    "h_g_15['rgi6_id'] = [ f\"RGI60-{r[-8:]}\" for r in h_g_15['RGIId_old']]\n",
    "\n",
    "# add rgi7_id to herreid data                                   \n",
    "h_g_13 = h_g_13.merge(link_15[['rgi6_id','rgi7_id']], how='left', left_on='rgi6_id', right_on='rgi6_id')\n",
    "h_g_14 = h_g_14.merge(link_15[['rgi6_id','rgi7_id']], how='left', left_on='rgi6_id', right_on='rgi6_id')\n",
    "h_g_15 = h_g_15.merge(link_15[['rgi6_id','rgi7_id']], how='left', left_on='rgi6_id', right_on='rgi6_id')"
   ]
  },
  {
   "cell_type": "code",
   "execution_count": null,
   "id": "0997667e-f3a2-476a-b053-1079c50424a2",
   "metadata": {},
   "outputs": [],
   "source": [
    "# concat everything into single dfs\n",
    "h_g_all = gpd.GeoDataFrame(pd.concat([h_g_13,h_g_14,h_g_15]))\n",
    "h_dc_all = 0\n",
    "rgi_all = 0\n"
   ]
  },
  {
   "cell_type": "code",
   "execution_count": 61,
   "id": "f165f692-77a3-4531-ba23-7c4b9572fc3a",
   "metadata": {
    "tags": []
   },
   "outputs": [
    {
     "name": "stdout",
     "output_type": "stream",
     "text": [
      "(2894, 29)\n"
     ]
    }
   ],
   "source": [
    "### lets think about how we want to do this.\n",
    "# the debris cover extents by herreid do not cover the entire rgi v7 area\n",
    "# so we need to infill the un-classfied area with either debris or non-debris\n",
    "\n",
    "all_results = []\n",
    "\n",
    "# filter out glacier smaller than 1km2\n",
    "rgi_15_1km = rgi_15[rgi_15['area_km2']>=1]\n",
    "print(rgi_15_1km.shape)\n",
    "\n",
    "# # for each glacier outline in rgi v7\n",
    "c=0\n",
    "for idx,row in rgi_15_1km.iterrows():\n",
    "    c+=1\n",
    "    # if c>1: continue\n",
    "    \n",
    "    # get rgi id\n",
    "    rgi_id_7 = row['rgi_id']\n",
    "    # if row['area_km2']<20: continue\n",
    "    # if rgi_id_7 != \"RGI2000-v7.0-G-15-06758\": continue\n",
    "    \n",
    "    g = row['geometry']\n",
    "    \n",
    "    # get all the products from herreid that intercept with it\n",
    "    h_g_intersect = h_g_15[h_g_15['geometry'].intersects(row['geometry'])]\n",
    "    h_dc_intersect = h_dc_15[h_dc_15['geometry'].intersects(row['geometry'])]\n",
    "    \n",
    "    # if there is no debris identified, then we don't care about this glacier and we can skip\n",
    "    if len(h_dc_intersect)==0: continue\n",
    "    \n",
    "    # otherwise, merge the geometries\n",
    "    h_g_merged = shapely.union_all(h_g_intersect.geometry).buffer(0)\n",
    "    h_dc_merged = shapely.union_all(h_dc_intersect.geometry.buffer(30)) # buffer by 30 to get rid of pixel edges\n",
    "    \n",
    "    # then clip to the rgi extent\n",
    "    h_g_inrgi = shapely.intersection_all([h_g_merged, row['geometry']]).buffer(0)\n",
    "    h_dc_inrgi = shapely.intersection_all([h_dc_merged, row['geometry']]).buffer(0)\n",
    "    \n",
    "    # get the areas that were within herreid glacier extent but not debris\n",
    "    h_ndc_inrgi = h_g_inrgi.difference(h_dc_inrgi).buffer(-10)\n",
    "    \n",
    "    # lastly get the areas within rgi7 that were not considered by herreid\n",
    "    no_id = row['geometry'].difference(h_g_inrgi).buffer(0)\n",
    "    \n",
    "    # for each polygon in no_id, if it touches dc and doesnt touch ndc (or vice versa) then it should be that one\n",
    "    if no_id.is_empty:\n",
    "        all_polys = []\n",
    "    elif no_id.geom_type == 'Polygon':\n",
    "        all_polys = [no_id]\n",
    "    elif no_id.geom_type == 'MultiPolygon':\n",
    "        all_polys = list(no_id.geoms)\n",
    "    \n",
    "    polys_dc = [h_dc_inrgi]\n",
    "    polys_ndc = [h_ndc_inrgi]\n",
    "    for p in all_polys:\n",
    "        \n",
    "        # check distance to dc\n",
    "        distance_dc = p.distance(h_dc_inrgi)\n",
    "        distance_ndc = p.distance(h_ndc_inrgi)\n",
    "        \n",
    "        # if equal distance, we will make it non debris covered\n",
    "        if distance_dc==distance_ndc:\n",
    "            polys_dc.append(p)\n",
    "        elif distance_ndc<distance_dc:\n",
    "            polys_ndc.append(p)\n",
    "        else:\n",
    "            polys_dc.append(p)\n",
    "    \n",
    "    # recombine everything together\n",
    "    dc = shapely.union_all(polys_dc).buffer(0)\n",
    "    ndc = shapely.union_all(polys_ndc).buffer(0)\n",
    "    \n",
    "    # buffer ndc by 100, to get rid of debris bordering ice\n",
    "    ndc_buff = ndc.buffer(100)\n",
    "    dc_final = dc.difference(ndc_buff).buffer(0)\n",
    "    ### dc_final now holds the final debris cover area for this glacier\n",
    "    \n",
    "    # if there is no remaining debris cover left, skip\n",
    "    if dc_final.area==0: continue\n",
    "    \n",
    "    # save the new data\n",
    "    row_out = {\"rgi_id\":rgi_id_7, 'geometry':dc_final}\n",
    "    all_results.append(row_out)\n",
    "    \n",
    "    # if len(all_results)>10:\n",
    "    #     break\n",
    "        \n",
    "# format to gdf and save\n",
    "out_path = os.path.join(folder_debris, \"Final products\", \"test.shp\")\n",
    "gdf = gpd.GeoDataFrame(all_results, crs=\"ESRI:102025\")\n",
    "gdf.to_file(out_path)"
   ]
  },
  {
   "cell_type": "code",
   "execution_count": 62,
   "id": "d2d747aa-0c77-4e4f-9d95-d091373da6e2",
   "metadata": {
    "tags": []
   },
   "outputs": [
    {
     "data": {
      "text/plain": [
       "(182187.63409366267, 725309.2007089576, -246548.8511536712, 179538.91829646175)"
      ]
     },
     "execution_count": 62,
     "metadata": {},
     "output_type": "execute_result"
    },
    {
     "data": {
      "image/png": "[encoded data removed]",
      "text/plain": [
       "<Figure size 640x480 with 1 Axes>"
      ]
     },
     "metadata": {},
     "output_type": "display_data"
    }
   ],
   "source": [
    "fig,axs = plt.subplots()\n",
    "gpd.GeoSeries(dc_final).plot(ax=axs, color='black')\n",
    "gpd.GeoSeries(g).exterior.plot(ax=axs, color='red')\n",
    "axs.axis('off')"
   ]
  },
  {
   "cell_type": "code",
   "execution_count": 60,
   "id": "7f8e8d7d-6979-4506-9146-f3af19731b01",
   "metadata": {
    "tags": []
   },
   "outputs": [
    {
     "data": {
      "text/plain": [
       "(-750261.5077112267,\n",
       " -743240.926312286,\n",
       " -217554.2930804408,\n",
       " -211204.48191440004)"
      ]
     },
     "execution_count": 60,
     "metadata": {},
     "output_type": "execute_result"
    },
    {
     "data": {
      "image/png": "[encoded data removed]",
      "text/plain": [
       "<Figure size 640x480 with 1 Axes>"
      ]
     },
     "metadata": {},
     "output_type": "display_data"
    }
   ],
   "source": [
    "fig,axs = plt.subplots()\n",
    "gpd.GeoSeries(h_g_merged).plot(ax=axs, color='black')\n",
    "gpd.GeoSeries(h_ndc_inrgi.buffer(0)).plot(ax=axs, color='blue')\n",
    "# gpd.GeoSeries(g).exterior.plot(ax=axs, color='red')\n",
    "axs.axis('off')"
   ]
  },
  {
   "cell_type": "code",
   "execution_count": 15,
   "id": "c0b28451-13e5-4924-bdcb-4b2a4d7e1485",
   "metadata": {
    "tags": []
   },
   "outputs": [],
   "source": []
  },
  {
   "cell_type": "code",
   "execution_count": null,
   "id": "b7247cc7-46b8-445e-b38b-174a2a114488",
   "metadata": {
    "tags": []
   },
   "outputs": [],
   "source": [
    "gdf"
   ]
  }
 ],
 "metadata": {
  "kernelspec": {
   "display_name": "Python 3 (ipykernel)",
   "language": "python",
   "name": "python3"
  },
  "language_info": {
   "codemirror_mode": {
    "name": "ipython",
    "version": 3
   },
   "file_extension": ".py",
   "mimetype": "text/x-python",
   "name": "python",
   "nbconvert_exporter": "python",
   "pygments_lexer": "ipython3",
   "version": "3.8.17"
  }
 },
 "nbformat": 4,
 "nbformat_minor": 5
}
