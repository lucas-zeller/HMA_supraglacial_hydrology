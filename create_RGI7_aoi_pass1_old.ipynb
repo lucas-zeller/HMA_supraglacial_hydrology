{
 "cells": [
  {
   "cell_type": "markdown",
   "id": "7afc8cee-fb68-459f-8172-e2cf4b42bdb1",
   "metadata": {},
   "source": [
    "Create a first-pass of glaciers that we believe should be included in the study.\n",
    "\n",
    "1- larger than 2 km2\n",
    "\n",
    "2- contain at least 1 km2 debris cover from herreid et al 2020"
   ]
  },
  {
   "cell_type": "code",
   "execution_count": 1,
   "id": "4589cbed-ab3e-4663-ae7b-486569421798",
   "metadata": {
    "tags": []
   },
   "outputs": [],
   "source": [
    "import os\n",
    "import rasterio as rio\n",
    "import numpy as np\n",
    "import shapely\n",
    "import pyproj\n",
    "import geopandas as gpd\n",
    "import matplotlib.pyplot as plt\n",
    "import rioxarray as riox\n",
    "import rasterio as rio\n",
    "import xarray as xr\n",
    "import pandas as pd\n",
    "from datetime import timedelta\n",
    "from datetime import datetime"
   ]
  },
  {
   "cell_type": "code",
   "execution_count": 2,
   "id": "238e608f-29fe-4a0a-86c3-cccbd504ea74",
   "metadata": {
    "tags": []
   },
   "outputs": [],
   "source": [
    "# define folder and file paths\n",
    "folder_HMA = os.path.join('C:',os.sep,'Users','lzell','OneDrive - Colostate','Desktop',\"HMA2\")\n",
    "folder_debris = os.path.join(folder_HMA, 'Datasets', 'debris cover')\n",
    "folder_rgi = os.path.join(folder_HMA, 'Datasets', 'RGI')\n",
    "folder_lakes = os.path.join(folder_HMA, 'Datasets', 'lake inventories')"
   ]
  },
  {
   "cell_type": "code",
   "execution_count": 3,
   "id": "7d5f8bee-242c-4d88-a365-d02603e60706",
   "metadata": {
    "tags": []
   },
   "outputs": [],
   "source": [
    "# open csvs that allow us to link rgiids between v6 and v7\n",
    "link_13 = pd.read_csv(os.path.join(folder_rgi, 'links', 'RGI2000-v7.0-G-13_central_asia-rgi6_links.csv'))\n",
    "link_14 = pd.read_csv(os.path.join(folder_rgi, 'links', 'RGI2000-v7.0-G-14_south_asia_west-rgi6_links.csv'))\n",
    "link_15 = pd.read_csv(os.path.join(folder_rgi, 'links', 'RGI2000-v7.0-G-15_south_asia_east-rgi6_links.csv'))\n",
    "# link_15.head()"
   ]
  },
  {
   "cell_type": "code",
   "execution_count": 4,
   "id": "314e41a4-4179-4dab-9e89-4fe4a71c7736",
   "metadata": {
    "tags": []
   },
   "outputs": [],
   "source": [
    "##### open RGI v7 and herreid2020 data\n",
    "\n",
    "# herreid debris cover, herreid glacier extents, rgi v7, and then fix 3d geometry\n",
    "h_dc_15 = gpd.read_file(os.path.join(folder_debris, 'Herreid2020', '15SouthAsiaEast', '15SouthAsiaEast_minGl1km2_debrisCover.shp')).to_crs(\"ESRI:102025\")\n",
    "h_g_15 = gpd.read_file(os.path.join(folder_debris, 'Herreid2020', '15SouthAsiaEast', '15SouthAsiaEast_minGl1km2.shp')).to_crs(\"ESRI:102025\")\n",
    "rgi_15 = gpd.read_file(os.path.join(folder_rgi, 'v7', 'G', 'RGI2000-v7.0-G-15_south_asia_east', 'RGI2000-v7.0-G-15_south_asia_east.shp')).to_crs(\"ESRI:102025\")\n",
    "rgi_15['geometry'] = gpd.GeoSeries.from_wkb(rgi_15.to_wkb(output_dimension=2).geometry)\n",
    "\n",
    "h_dc_13 = gpd.read_file(os.path.join(folder_debris, 'Herreid2020', '13CentralAsia', '13CentralAsia_minGl1km2_debrisCover.shp')).to_crs(\"ESRI:102025\")\n",
    "h_g_13 = gpd.read_file(os.path.join(folder_debris, 'Herreid2020', '13CentralAsia', '13CentralAsia_minGl1km2.shp')).to_crs(\"ESRI:102025\")\n",
    "rgi_13 = gpd.read_file(os.path.join(folder_rgi, 'v7', 'G', 'RGI2000-v7.0-G-13_central_asia', 'RGI2000-v7.0-G-13_central_asia.shp')).to_crs(\"ESRI:102025\")\n",
    "rgi_13['geometry'] = gpd.GeoSeries.from_wkb(rgi_13.to_wkb(output_dimension=2).geometry)\n",
    "\n",
    "h_dc_14 = gpd.read_file(os.path.join(folder_debris, 'Herreid2020', '14SouthAsiaWest', '14SouthAsiaWest_minGl1km2_debrisCover.shp')).to_crs(\"ESRI:102025\")\n",
    "h_g_14 = gpd.read_file(os.path.join(folder_debris, 'Herreid2020', '14SouthAsiaWest', '14SouthAsiaWest_minGl1km2.shp')).to_crs(\"ESRI:102025\")\n",
    "rgi_14 = gpd.read_file(os.path.join(folder_rgi, 'v7', 'G', 'RGI2000-v7.0-G-14_south_asia_west', 'RGI2000-v7.0-G-14_south_asia_west.shp')).to_crs(\"ESRI:102025\")\n",
    "rgi_14['geometry'] = gpd.GeoSeries.from_wkb(rgi_14.to_wkb(output_dimension=2).geometry)\n",
    "\n",
    "# open wang et al 2020 lake dataset\n",
    "# lakes_1990 = gpd.read_file(os.path.join(folder_lakes, 'wang_2020', 'High_Asia_glacial_lake_1990.shp')).to_crs(\"ESRI:102025\")\n",
    "# lakes_2018 = gpd.read_file(os.path.join(folder_lakes, 'wang_2020', 'High_Asia_glacial_lake_2018.shp')).to_crs(\"ESRI:102025\")"
   ]
  },
  {
   "cell_type": "code",
   "execution_count": 5,
   "id": "0997667e-f3a2-476a-b053-1079c50424a2",
   "metadata": {},
   "outputs": [
    {
     "data": {
      "text/plain": [
       "(131762, 29)"
      ]
     },
     "execution_count": 5,
     "metadata": {},
     "output_type": "execute_result"
    }
   ],
   "source": [
    "# concat everything into single dfs\n",
    "h_dc_all = gpd.GeoDataFrame(pd.concat([h_dc_13, h_dc_14, h_dc_15]))\n",
    "h_g_all = gpd.GeoDataFrame(pd.concat([h_g_13, h_g_14, h_g_15]))\n",
    "rgi_all = gpd.GeoDataFrame(pd.concat([rgi_13, rgi_14, rgi_15]))\n",
    "# lakes_all = gpd.GeoDataFrame(pd.concat([lakes_1990, lakes_2018]))\n",
    "rgi_all.shape"
   ]
  },
  {
   "cell_type": "code",
   "execution_count": 6,
   "id": "69e48ff3",
   "metadata": {
    "tags": []
   },
   "outputs": [
    {
     "data": {
      "text/plain": [
       "(8011, 29)"
      ]
     },
     "execution_count": 6,
     "metadata": {},
     "output_type": "execute_result"
    }
   ],
   "source": [
    "# remove any glaciers that are less than 2 km2\n",
    "rgi_all_2km = rgi_all[rgi_all['area_km2']>=2]\n",
    "rgi_all_2km.shape"
   ]
  },
  {
   "cell_type": "code",
   "execution_count": 7,
   "id": "a5115be4-bab7-45e2-abfc-ec360c8cd9c2",
   "metadata": {
    "tags": []
   },
   "outputs": [],
   "source": [
    "# remove lake that are not glacier-fed\n",
    "# lakes_all_glacier_fed = lakes_all[lakes_all['GL_Type']=='Glacier-Fed Lake'].copy()\n",
    "# lakes_all_glacier_fed.shape"
   ]
  },
  {
   "cell_type": "code",
   "execution_count": null,
   "id": "2bd7d679",
   "metadata": {},
   "outputs": [],
   "source": []
  },
  {
   "cell_type": "code",
   "execution_count": 8,
   "id": "fa1850c7-c321-4d17-b947-74383b088c79",
   "metadata": {
    "tags": []
   },
   "outputs": [],
   "source": [
    "# # Calculate the area of each resulting polygon\n",
    "# intersected['area_deb'] = intersected['geometry'].area / (1000*1000)\n",
    "\n",
    "# # aggregate intersected area within each rgiid\n",
    "# total_areas = intersected[['rgi_id','area_deb']].groupby('rgi_id').sum() \n",
    "\n",
    "# # merge the debris intersection area back to the rgi gdf\n",
    "# rgi_all_2km_debris = pd.merge(rgi_all_2km, total_areas, on=['rgi_id'], how='left')\n",
    "\n",
    "# # fill na with 0s\n",
    "# rgi_all_2km_debris['area_deb'] = rgi_all_2km_debris['area_deb'].fillna(0)"
   ]
  },
  {
   "cell_type": "code",
   "execution_count": 9,
   "id": "4a3a6354",
   "metadata": {},
   "outputs": [],
   "source": [
    "# # Perform overlay to get the intersection between RGI outlines and herreid glacier outlines\n",
    "# # (to see what glaciers were not included by herreid)\n",
    "# intersected = gpd.overlay(rgi_all_2km, h_g_union_gdf, how='intersection')\n",
    "\n",
    "# # Calculate the area of each resulting polygon\n",
    "# intersected['area_g'] = intersected['geometry'].area / (1000*1000)\n",
    "\n",
    "# # aggregate intersected area within each rgiid\n",
    "# total_areas = intersected[['rgi_id','area_g']].groupby('rgi_id').sum().rename({'area_g':'area_h'}, axis=1) \n",
    "\n",
    "# # merge the herreid glacier area back to the rgi gdf, fill nan with 0\n",
    "# rgi_all_2km_glaciers = pd.merge(rgi_all_2km, total_areas, on=['rgi_id'], how='left')\n",
    "# rgi_all_2km_glaciers['area_h'] = rgi_all_2km_glaciers['area_h'].fillna(0)\n",
    "\n",
    "# # add column calculating area of rgiv7\n",
    "# rgi_all_2km_glaciers['area_rgi7'] = rgi_all_2km_glaciers['geometry'].area / (1000*1000)\n",
    "# rgi_all_2km_glaciers['area_rgi7b'] = rgi_all_2km_glaciers['area_km2']\n",
    "\n",
    "# # add column to hold difference between the two\n",
    "# rgi_all_2km_glaciers['area_missed'] = rgi_all_2km_glaciers['area_rgi7'] - rgi_all_2km_glaciers['area_h'] \n",
    "# rgi_all_2km_glaciers.head()"
   ]
  },
  {
   "cell_type": "code",
   "execution_count": 10,
   "id": "95c3e798",
   "metadata": {},
   "outputs": [],
   "source": [
    "### calculate herreid-defined debris cover within each rgi7 outline\n",
    "\n",
    "# get the geometric intersection of each rgi outline with the debris cover\n",
    "intersected = gpd.overlay(rgi_all_2km, h_dc_all, how='intersection')\n",
    "intersected2 = intersected.dissolve(by='rgi_id').reset_index() # dissolve because sometime these overlap\n",
    "\n",
    "# Calculate the area of each resulting polygon\n",
    "intersected2['area_dc'] = intersected2['geometry'].area / (1000*1000)\n",
    "\n",
    "# aggregate intersected area within each rgiid\n",
    "total_areas = intersected2[['rgi_id','area_dc']].groupby('rgi_id').sum()\n",
    "\n",
    "# merge the debris intersection area back to the rgi gdf\n",
    "rgi_all_2km_debris = pd.merge(rgi_all_2km, total_areas, on=['rgi_id'], how='left')\n",
    "\n",
    "# fill na with 0s\n",
    "rgi_all_2km_debris['area_dc'] = rgi_all_2km_debris['area_dc'].fillna(0)"
   ]
  },
  {
   "cell_type": "code",
   "execution_count": 11,
   "id": "8c565559",
   "metadata": {},
   "outputs": [],
   "source": [
    "### calculate the parts of each rgi7 outline that herreid did not consider\n",
    "\n",
    "# get the geometric intersection of each rgi outline with the debris cover\n",
    "intersected = gpd.overlay(rgi_all_2km, h_g_all, how='intersection')\n",
    "intersected2 = intersected.dissolve(by='rgi_id').reset_index() # dissolve because sometime these overlap\n",
    "\n",
    "# Calculate the area of each resulting polygon\n",
    "intersected2['area_h'] = intersected2['geometry'].area / (1000*1000)\n",
    "\n",
    "# aggregate intersected area within each rgiid\n",
    "total_areas = intersected2[['rgi_id','area_h']].groupby('rgi_id').sum()\n",
    "\n",
    "# merge the debris intersection area back to the rgi gdf\n",
    "rgi_all_2km_missing = pd.merge(rgi_all_2km, total_areas, on=['rgi_id'], how='left')\n",
    "\n",
    "# fill na with 0s\n",
    "rgi_all_2km_missing['area_h'] = rgi_all_2km_missing['area_h'].fillna(0)\n",
    "\n",
    "# add column calculating area of rgiv7\n",
    "rgi_all_2km_missing['area_rgi7'] = rgi_all_2km_missing['geometry'].area / (1000*1000)\n",
    "# rgi_all_2km_glaciers['area_rgi7b'] = rgi_all_2km_glaciers['area_km2']\n",
    "\n",
    "# add column to hold difference between the two\n",
    "rgi_all_2km_missing['area_miss'] = rgi_all_2km_missing['area_rgi7'] - rgi_all_2km_missing['area_h'] \n",
    "rgi_all_2km_missing['area_miss'] = rgi_all_2km_missing['area_miss'].round(2)\n",
    "# rgi_all_2km_missing.head()"
   ]
  },
  {
   "cell_type": "code",
   "execution_count": 12,
   "id": "3fbdc5bb",
   "metadata": {},
   "outputs": [
    {
     "data": {
      "text/plain": [
       "(8011, 33)"
      ]
     },
     "execution_count": 12,
     "metadata": {},
     "output_type": "execute_result"
    }
   ],
   "source": [
    "# merge everything back together\n",
    "rgi_all_merged = pd.merge(rgi_all_2km, rgi_all_2km_debris[['rgi_id','area_dc']], on=['rgi_id'], how='left')\n",
    "rgi_all_merged = pd.merge(rgi_all_merged, rgi_all_2km_missing[['rgi_id','area_h','area_miss']], on=['rgi_id'], how='left')\n",
    "# rgi_all_merged['area_dc'] = rgi_all_2km_debris['area_dc'] \n",
    "# rgi_all_merged['area_miss'] = rgi_all_2km_missing['area_missed'] \n",
    "rgi_all_merged['dc_plus_m'] = rgi_all_merged['area_dc'] + rgi_all_merged['area_miss']\n",
    "rgi_all_merged.shape"
   ]
  },
  {
   "cell_type": "code",
   "execution_count": 13,
   "id": "b90a527e-02cd-4913-9243-81938d6ce341",
   "metadata": {
    "tags": []
   },
   "outputs": [
    {
     "data": {
      "text/plain": [
       "(1577, 33)"
      ]
     },
     "execution_count": 13,
     "metadata": {},
     "output_type": "execute_result"
    }
   ],
   "source": [
    "# filter to only those that has 1 km2 of debris, or 2km2 of debris+missing areas\n",
    "rgi_out = rgi_all_merged [ (rgi_all_merged['dc_plus_m']>2) | \n",
    "                           (rgi_all_merged['area_dc']>1) ]\n",
    "rgi_out.shape"
   ]
  },
  {
   "cell_type": "code",
   "execution_count": 14,
   "id": "2ef1c9e7-06f4-43a0-b7f8-62b8cb039311",
   "metadata": {
    "tags": []
   },
   "outputs": [],
   "source": [
    "# save\n",
    "out_path = os.path.join(folder_HMA, \"Datasets\", 'AOI definition', 'prospective glaciers', \"prospective_glaciers.shp\")\n",
    "rgi_out.to_file(out_path)"
   ]
  },
  {
   "cell_type": "code",
   "execution_count": 16,
   "id": "f4844b80",
   "metadata": {},
   "outputs": [
    {
     "data": {
      "text/html": [
       "<div>\n",
       "<style scoped>\n",
       "    .dataframe tbody tr th:only-of-type {\n",
       "        vertical-align: middle;\n",
       "    }\n",
       "\n",
       "    .dataframe tbody tr th {\n",
       "        vertical-align: top;\n",
       "    }\n",
       "\n",
       "    .dataframe thead th {\n",
       "        text-align: right;\n",
       "    }\n",
       "</style>\n",
       "<table border=\"1\" class=\"dataframe\">\n",
       "  <thead>\n",
       "    <tr style=\"text-align: right;\">\n",
       "      <th></th>\n",
       "      <th>rgi_id</th>\n",
       "      <th>o1region</th>\n",
       "      <th>o2region</th>\n",
       "      <th>glims_id</th>\n",
       "      <th>anlys_id</th>\n",
       "      <th>subm_id</th>\n",
       "      <th>src_date</th>\n",
       "      <th>cenlon</th>\n",
       "      <th>cenlat</th>\n",
       "      <th>utm_zone</th>\n",
       "      <th>...</th>\n",
       "      <th>slope_deg</th>\n",
       "      <th>aspect_deg</th>\n",
       "      <th>aspect_sec</th>\n",
       "      <th>dem_source</th>\n",
       "      <th>lmax_m</th>\n",
       "      <th>geometry</th>\n",
       "      <th>area_dc</th>\n",
       "      <th>area_h</th>\n",
       "      <th>area_miss</th>\n",
       "      <th>dc_plus_m</th>\n",
       "    </tr>\n",
       "  </thead>\n",
       "  <tbody>\n",
       "    <tr>\n",
       "      <th>1395</th>\n",
       "      <td>RGI2000-v7.0-G-13-29346</td>\n",
       "      <td>13</td>\n",
       "      <td>13-03</td>\n",
       "      <td>G078253E41399N</td>\n",
       "      <td>868454</td>\n",
       "      <td>752</td>\n",
       "      <td>2002-07-10T00:00:00</td>\n",
       "      <td>78.253172</td>\n",
       "      <td>41.398720</td>\n",
       "      <td>44</td>\n",
       "      <td>...</td>\n",
       "      <td>28.562437</td>\n",
       "      <td>10.775922</td>\n",
       "      <td>1</td>\n",
       "      <td>COPDEM30</td>\n",
       "      <td>1745</td>\n",
       "      <td>POLYGON ((-1265223.807 1485178.882, -1265223.6...</td>\n",
       "      <td>0.0</td>\n",
       "      <td>0.000000</td>\n",
       "      <td>2.04</td>\n",
       "      <td>2.04</td>\n",
       "    </tr>\n",
       "    <tr>\n",
       "      <th>7570</th>\n",
       "      <td>RGI2000-v7.0-G-15-10442</td>\n",
       "      <td>15</td>\n",
       "      <td>15-02</td>\n",
       "      <td>G091594E27979N</td>\n",
       "      <td>917775</td>\n",
       "      <td>752</td>\n",
       "      <td>1995-09-02T00:00:00</td>\n",
       "      <td>91.595747</td>\n",
       "      <td>27.981801</td>\n",
       "      <td>46</td>\n",
       "      <td>...</td>\n",
       "      <td>33.502163</td>\n",
       "      <td>217.812546</td>\n",
       "      <td>6</td>\n",
       "      <td>COPDEM30</td>\n",
       "      <td>1770</td>\n",
       "      <td>POLYGON ((-315238.062 -232538.541, -315231.580...</td>\n",
       "      <td>0.0</td>\n",
       "      <td>0.000000</td>\n",
       "      <td>2.11</td>\n",
       "      <td>2.11</td>\n",
       "    </tr>\n",
       "    <tr>\n",
       "      <th>7701</th>\n",
       "      <td>RGI2000-v7.0-G-15-12195</td>\n",
       "      <td>15</td>\n",
       "      <td>15-03</td>\n",
       "      <td>G095893E30294N</td>\n",
       "      <td>930022</td>\n",
       "      <td>752</td>\n",
       "      <td>2005-09-08T00:00:00</td>\n",
       "      <td>95.890191</td>\n",
       "      <td>30.294003</td>\n",
       "      <td>46</td>\n",
       "      <td>...</td>\n",
       "      <td>16.212187</td>\n",
       "      <td>47.053852</td>\n",
       "      <td>2</td>\n",
       "      <td>COPDEM30</td>\n",
       "      <td>1837</td>\n",
       "      <td>POLYGON ((79481.499 34509.464, 79479.346 34509...</td>\n",
       "      <td>0.0</td>\n",
       "      <td>0.025632</td>\n",
       "      <td>2.09</td>\n",
       "      <td>2.09</td>\n",
       "    </tr>\n",
       "    <tr>\n",
       "      <th>7047</th>\n",
       "      <td>RGI2000-v7.0-G-15-05304</td>\n",
       "      <td>15</td>\n",
       "      <td>15-01</td>\n",
       "      <td>G085141E28496N</td>\n",
       "      <td>900610</td>\n",
       "      <td>752</td>\n",
       "      <td>1998-06-18T00:00:00</td>\n",
       "      <td>85.142983</td>\n",
       "      <td>28.494304</td>\n",
       "      <td>45</td>\n",
       "      <td>...</td>\n",
       "      <td>35.666485</td>\n",
       "      <td>219.204285</td>\n",
       "      <td>6</td>\n",
       "      <td>COPDEM30</td>\n",
       "      <td>1864</td>\n",
       "      <td>POLYGON ((-902407.637 -132225.499, -902366.299...</td>\n",
       "      <td>0.0</td>\n",
       "      <td>0.000000</td>\n",
       "      <td>2.18</td>\n",
       "      <td>2.18</td>\n",
       "    </tr>\n",
       "    <tr>\n",
       "      <th>7367</th>\n",
       "      <td>RGI2000-v7.0-G-15-08549</td>\n",
       "      <td>15</td>\n",
       "      <td>15-02</td>\n",
       "      <td>G086554E28049N</td>\n",
       "      <td>905019</td>\n",
       "      <td>752</td>\n",
       "      <td>1999-04-27T00:00:00</td>\n",
       "      <td>86.559606</td>\n",
       "      <td>28.046265</td>\n",
       "      <td>45</td>\n",
       "      <td>...</td>\n",
       "      <td>35.388863</td>\n",
       "      <td>117.352560</td>\n",
       "      <td>4</td>\n",
       "      <td>COPDEM30</td>\n",
       "      <td>2037</td>\n",
       "      <td>POLYGON ((-779466.070 -197249.293, -779428.536...</td>\n",
       "      <td>0.0</td>\n",
       "      <td>0.011847</td>\n",
       "      <td>2.02</td>\n",
       "      <td>2.02</td>\n",
       "    </tr>\n",
       "  </tbody>\n",
       "</table>\n",
       "<p>5 rows × 33 columns</p>\n",
       "</div>"
      ],
      "text/plain": [
       "                       rgi_id o1region o2region        glims_id  anlys_id  \\\n",
       "1395  RGI2000-v7.0-G-13-29346       13    13-03  G078253E41399N    868454   \n",
       "7570  RGI2000-v7.0-G-15-10442       15    15-02  G091594E27979N    917775   \n",
       "7701  RGI2000-v7.0-G-15-12195       15    15-03  G095893E30294N    930022   \n",
       "7047  RGI2000-v7.0-G-15-05304       15    15-01  G085141E28496N    900610   \n",
       "7367  RGI2000-v7.0-G-15-08549       15    15-02  G086554E28049N    905019   \n",
       "\n",
       "      subm_id             src_date     cenlon     cenlat  utm_zone  ...  \\\n",
       "1395      752  2002-07-10T00:00:00  78.253172  41.398720        44  ...   \n",
       "7570      752  1995-09-02T00:00:00  91.595747  27.981801        46  ...   \n",
       "7701      752  2005-09-08T00:00:00  95.890191  30.294003        46  ...   \n",
       "7047      752  1998-06-18T00:00:00  85.142983  28.494304        45  ...   \n",
       "7367      752  1999-04-27T00:00:00  86.559606  28.046265        45  ...   \n",
       "\n",
       "      slope_deg  aspect_deg  aspect_sec  dem_source  lmax_m  \\\n",
       "1395  28.562437   10.775922           1    COPDEM30    1745   \n",
       "7570  33.502163  217.812546           6    COPDEM30    1770   \n",
       "7701  16.212187   47.053852           2    COPDEM30    1837   \n",
       "7047  35.666485  219.204285           6    COPDEM30    1864   \n",
       "7367  35.388863  117.352560           4    COPDEM30    2037   \n",
       "\n",
       "                                               geometry  area_dc    area_h  \\\n",
       "1395  POLYGON ((-1265223.807 1485178.882, -1265223.6...      0.0  0.000000   \n",
       "7570  POLYGON ((-315238.062 -232538.541, -315231.580...      0.0  0.000000   \n",
       "7701  POLYGON ((79481.499 34509.464, 79479.346 34509...      0.0  0.025632   \n",
       "7047  POLYGON ((-902407.637 -132225.499, -902366.299...      0.0  0.000000   \n",
       "7367  POLYGON ((-779466.070 -197249.293, -779428.536...      0.0  0.011847   \n",
       "\n",
       "      area_miss  dc_plus_m  \n",
       "1395       2.04       2.04  \n",
       "7570       2.11       2.11  \n",
       "7701       2.09       2.09  \n",
       "7047       2.18       2.18  \n",
       "7367       2.02       2.02  \n",
       "\n",
       "[5 rows x 33 columns]"
      ]
     },
     "execution_count": 16,
     "metadata": {},
     "output_type": "execute_result"
    }
   ],
   "source": [
    "rgi_out.sort_values('lmax_m').head()"
   ]
  }
 ],
 "metadata": {
  "kernelspec": {
   "display_name": "Python 3 (ipykernel)",
   "language": "python",
   "name": "python3"
  },
  "language_info": {
   "codemirror_mode": {
    "name": "ipython",
    "version": 3
   },
   "file_extension": ".py",
   "mimetype": "text/x-python",
   "name": "python",
   "nbconvert_exporter": "python",
   "pygments_lexer": "ipython3",
   "version": "3.8.17"
  }
 },
 "nbformat": 4,
 "nbformat_minor": 5
}
