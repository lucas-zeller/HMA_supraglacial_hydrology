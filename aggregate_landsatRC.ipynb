{
 "cells": [
  {
   "cell_type": "code",
   "execution_count": 1,
   "id": "7e777162-40fa-481a-aee2-54523f823347",
   "metadata": {
    "tags": []
   },
   "outputs": [],
   "source": [
    "import ee\n",
    "#import geetools\n",
    "import numpy as np\n",
    "import json\n",
    "import pandas as pd\n",
    "import geopandas as gpd\n",
    "import os\n",
    "import numpy as np"
   ]
  },
  {
   "cell_type": "code",
   "execution_count": 4,
   "id": "e216a0af-0377-465b-a86e-c5808868e04b",
   "metadata": {
    "tags": []
   },
   "outputs": [],
   "source": [
    "# # # Trigger the authentication flow.\n",
    "# ee.Authenticate()\n",
    "\n",
    "# # # Initialize the library.\n",
    "ee.Initialize()"
   ]
  },
  {
   "cell_type": "code",
   "execution_count": 60,
   "id": "59708aae-314f-48e0-a59a-28ce5979a71f",
   "metadata": {
    "tags": []
   },
   "outputs": [
    {
     "name": "stdout",
     "output_type": "stream",
     "text": [
      "L9:  44\n",
      "L8:  1\n",
      "L7:  415\n",
      "L5:  156\n"
     ]
    }
   ],
   "source": [
    "L9_images = (ee.ImageCollection('LANDSAT/LC09/C02/T1_L2')\n",
    "                      .filterDate('1990-01-01', '2024-01-01') # filter by date range\n",
    "                      .filter(ee.Filter.eq(\"TARGET_WRS_PATH\",140))\n",
    "                      .filter(ee.Filter.eq(\"TARGET_WRS_ROW\",41))\n",
    "                      .sort('system:time_start'))\n",
    "\n",
    "L8_images = (ee.ImageCollection('LANDSAT/LC08/C02/T1_L2')\n",
    "                      .filterDate('1990-01-01', '2024-01-01') # filter by date range\n",
    "                      .filterDate('2013-10-01', '2013-10-11')\n",
    "                      .filter(ee.Filter.eq(\"TARGET_WRS_PATH\",140))\n",
    "                      .filter(ee.Filter.eq(\"TARGET_WRS_ROW\",41))\n",
    "                      .sort('system:time_start'))\n",
    "\n",
    "L7_images = (ee.ImageCollection('LANDSAT/LE07/C02/T1_L2')\n",
    "                      .filterDate('2000-01-01', '2024-01-01') # filter by date range\n",
    "                      .filter(ee.Filter.eq(\"WRS_PATH\",140))\n",
    "                      .filter(ee.Filter.eq(\"WRS_ROW\",41))\n",
    "                      .sort('system:time_start'))\n",
    "\n",
    "L5_images = (ee.ImageCollection('LANDSAT/LT05/C02/T1_L2')\n",
    "                      .filterDate('2000-01-01', '2024-01-01') # filter by date range\n",
    "                      .filter(ee.Filter.eq(\"WRS_PATH\",140))\n",
    "                      .filter(ee.Filter.eq(\"WRS_ROW\",41))\n",
    "                      .sort('system:time_start'))\n",
    "\n",
    "# count number of images\n",
    "print('L9: ', L9_images.size().getInfo());\n",
    "print('L8: ', L8_images.size().getInfo());\n",
    "print('L7: ', L7_images.size().getInfo());\n",
    "print('L5: ', L5_images.size().getInfo());\n",
    "# so we should expect each landsat tile to have ~850 images 1990-2023"
   ]
  },
  {
   "cell_type": "code",
   "execution_count": 48,
   "id": "159fe500-14d3-4fdb-9b4e-5ab2a7206baa",
   "metadata": {
    "tags": []
   },
   "outputs": [],
   "source": [
    "# load dem that will be used for shadow masks\n",
    "dem = (ee.ImageCollection('COPERNICUS/DEM/GLO30')\n",
    "            .select('DEM')\n",
    "            .filterBounds(L8_images.first().geometry())\n",
    "            .mosaic())"
   ]
  },
  {
   "cell_type": "code",
   "execution_count": 74,
   "id": "067f4f11-bf11-4c81-bbc0-d28b2f56fce6",
   "metadata": {
    "tags": []
   },
   "outputs": [
    {
     "name": "stdout",
     "output_type": "stream",
     "text": [
      "{'type': 'Image', 'bands': [{'id': 'water', 'data_type': {'type': 'PixelType', 'precision': 'int', 'min': 0, 'max': 1}, 'dimensions': [7641, 7791], 'crs': 'EPSG:32645', 'crs_transform': [30, 0, 366885, 0, -30, 3150615]}], 'properties': {'system:index': 'LC08_140041_20131010'}}\n",
      "{'type': 'Image', 'bands': [{'id': 'shadow', 'data_type': {'type': 'PixelType', 'precision': 'double'}, 'crs': 'EPSG:4326', 'crs_transform': [1, 0, 0, 0, 1, 0]}], 'properties': {'system:index': 'LC08_140041_20131010'}}\n",
      "{'type': 'Image', 'bands': [{'id': 'QA_PIXEL', 'data_type': {'type': 'PixelType', 'precision': 'int', 'min': 0, 'max': 1}, 'dimensions': [7641, 7791], 'crs': 'EPSG:32645', 'crs_transform': [30, 0, 366885, 0, -30, 3150615]}], 'properties': {'system:index': 'LC08_140041_20131010'}}\n"
     ]
    }
   ],
   "source": [
    "### now for each, I think we want to ID water, shadows, snow/ice, clouds\n",
    "# each should be a binary image. 1=present, 0=absent\n",
    "\n",
    "def applyScaleFactors(image):\n",
    "    opticalBands = image.select('SR_B.').multiply(0.0000275).add(-0.2);\n",
    "    thermalBands = image.select('ST_B.*').multiply(0.00341802).add(149.0);\n",
    "    return image.addBands(opticalBands, None, True).addBands(thermalBands, None, True);\n",
    "\n",
    "def ID_LS_shadows(image):\n",
    "        \n",
    "        # get solar azimuth and zenith   \n",
    "        azimuth = image.get('SUN_AZIMUTH')\n",
    "        zenith = image.get('SUN_ELEVATION')\n",
    "    \n",
    "        # calculate shadows\n",
    "        shadow_map = ee.Terrain.hillShadow(**{\n",
    "          'image': dem,\n",
    "          'azimuth': azimuth,\n",
    "          'zenith': zenith,\n",
    "          'neighborhoodSize': 200,\n",
    "          'hysteresis': True\n",
    "        })\n",
    "        \n",
    "        # a little convolution to smooth it out\n",
    "        boxcar = ee.Kernel.square(60, 'meters', True)\n",
    "        shadow_map = shadow_map.convolve(boxcar).round()\n",
    "        return shadow_map\n",
    "\n",
    "def ID_L8_water(image):\n",
    "    ndwi = applyScaleFactors(image).normalizedDifference([\"SR_B3\",\"SR_B5\"])\n",
    "    water = ndwi.gte(0.188).rename('water')\n",
    "    return water\n",
    "\n",
    "def ID_LS_clouds(image):\n",
    "\n",
    "    # grab the QA_pixel band\n",
    "    qa_pixel_band = image.select('QA_PIXEL')\n",
    "        \n",
    "    # create bitmasks for cloud and shadow (bits 3 and 4)\n",
    "    # bits 1,3,4 indicate clouds/cloud shadows\n",
    "    dilated_cloud_mask = 1 << 1\n",
    "    cloud_mask = 1 << 3\n",
    "    shadow_mask = 1 << 4\n",
    "\n",
    "    # test each pixel for cloud and shadow\n",
    "    dilated_clouds = qa_pixel_band.bitwiseAnd(dilated_cloud_mask).neq(0)\n",
    "    clouds = qa_pixel_band.bitwiseAnd(cloud_mask).neq(0)\n",
    "    shadows = qa_pixel_band.bitwiseAnd(shadow_mask).neq(0)\n",
    "    \n",
    "    # add them all together\n",
    "    all_clouds = dilated_clouds.max(clouds).max(shadows).rename('cloud')\n",
    "\n",
    "    return clouds\n",
    "\n",
    "L8_water = L8_images.map(ID_L8_water)\n",
    "L8_shadow = L8_images.map(ID_LS_shadows)\n",
    "L8_cloud = L8_images.map(ID_LS_clouds)\n",
    "print(L8_water.first().getInfo())\n",
    "print(L8_shadow.first().getInfo())\n",
    "print(L8_cloud.first().getInfo())\n",
    "# print(L8_images.first().getInfo())\n"
   ]
  },
  {
   "cell_type": "code",
   "execution_count": 77,
   "id": "37fb0fe4-347e-448a-be83-d8795c2b8953",
   "metadata": {
    "tags": []
   },
   "outputs": [
    {
     "name": "stdout",
     "output_type": "stream",
     "text": [
      "Classified image stack export started\n"
     ]
    }
   ],
   "source": [
    "# export the image to drive\n",
    "extent = ee.Geometry.Polygon([ee.Geometry.Point([86.72176150806348,27.844906019876465]),\n",
    "                             ee.Geometry.Point([86.99641971118848,27.844906019876465]),\n",
    "                             ee.Geometry.Point([86.99641971118848,27.99840413976646]),\n",
    "                             ee.Geometry.Point([86.72176150806348,27.99840413976646]),\n",
    "                             ee.Geometry.Point([86.72176150806348,27.844906019876465])])\n",
    "\n",
    "task = ee.batch.Export.image.toDrive(\n",
    "    image = L8_cloud.first(),#.clip(extent), #regional_clipped_image,\n",
    "    region = extent, # region.bounds()\n",
    "    folder = None,\n",
    "    scale = 30,\n",
    "    maxPixels = int(1e13),\n",
    "    # crs = 'ESRI:102025',\n",
    "    # crsTransform = [30,0,0,0,-30,0],\n",
    "    description = \"cloud test\",\n",
    "    skipEmptyTiles = True\n",
    "    )\n",
    "\n",
    "task.start()\n",
    "print('Classified image stack export started')#, f\"{description}\")"
   ]
  }
 ],
 "metadata": {
  "kernelspec": {
   "display_name": "Python 3 (ipykernel)",
   "language": "python",
   "name": "python3"
  },
  "language_info": {
   "codemirror_mode": {
    "name": "ipython",
    "version": 3
   },
   "file_extension": ".py",
   "mimetype": "text/x-python",
   "name": "python",
   "nbconvert_exporter": "python",
   "pygments_lexer": "ipython3",
   "version": "3.8.17"
  }
 },
 "nbformat": 4,
 "nbformat_minor": 5
}
