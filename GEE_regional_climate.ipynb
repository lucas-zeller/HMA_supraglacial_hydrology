{
 "cells": [
  {
   "cell_type": "code",
   "execution_count": 1,
   "id": "9d42e1ef-c900-463d-9f8b-29fbd89f1d34",
   "metadata": {
    "tags": []
   },
   "outputs": [],
   "source": [
    "import ee\n",
    "import geemap\n",
    "import numpy as np\n",
    "import json\n",
    "import pandas as pd\n",
    "import geopandas as gpd\n",
    "import os\n",
    "import numpy as np\n",
    "import geemap.colormaps as geecm"
   ]
  },
  {
   "cell_type": "code",
   "execution_count": 4,
   "id": "18c8296f-2584-46b5-a422-6b5514d10b50",
   "metadata": {
    "tags": []
   },
   "outputs": [],
   "source": [
    "# # # Trigger the authentication flow.\n",
    "# ee.Authenticate()\n",
    "\n",
    "# # # Initialize the library.\n",
    "ee.Initialize()"
   ]
  },
  {
   "cell_type": "code",
   "execution_count": 5,
   "id": "d5554eb3-f6a8-4088-a486-32bc8abc33bd",
   "metadata": {
    "tags": []
   },
   "outputs": [],
   "source": [
    "# define folder and file paths\n",
    "folder_HMA = os.path.join('C:',os.sep,'Users','lzell','OneDrive - Colostate','Desktop',\"HMA2\")\n",
    "regions_fp = os.path.join(folder_HMA, 'Datasets', 'AOI definition', 'Final AOI', \"Final Products\", 'subregion_boundaries.shp')\n",
    "rgi_5km_fp = os.path.join(folder_HMA, 'Datasets', 'AOI definition', 'Final AOI', \"Final Products\", 'AOI_5km.shp')\n",
    "fp_dc = os.path.join(folder_HMA, 'Datasets', 'AOI definition', 'Final AOI', \"Final Products\", 'AOI_dc_rgi.shp')"
   ]
  },
  {
   "cell_type": "code",
   "execution_count": 6,
   "id": "5d8a1e6b-060b-4010-b630-95affcf49fd5",
   "metadata": {
    "tags": []
   },
   "outputs": [],
   "source": [
    "# open rgi\n",
    "rgi_gdf = gpd.read_file(fp_dc)\n",
    "\n",
    "# calculate centroids of each rgi, format lists\n",
    "centroids = rgi_gdf['geometry'].centroid.to_crs(\"EPSG:4326\").values\n",
    "rgi_ids = rgi_gdf['rgi_id'].values"
   ]
  },
  {
   "cell_type": "code",
   "execution_count": 7,
   "id": "0883295e-973b-432f-85f3-606d504de287",
   "metadata": {
    "tags": []
   },
   "outputs": [],
   "source": [
    "# load the climate data, select variables and dates\n",
    "climate_data = (ee.ImageCollection('ECMWF/ERA5_LAND/MONTHLY_AGGR')\n",
    "                    .filterDate('1980-01-01', '2024-01-01')\n",
    "                    .select(['temperature_2m', 'total_precipitation_sum'])\n",
    "               )\n",
    "\n",
    "# make temp and precip into their own image\n",
    "image_temp = climate_data.select('temperature_2m').toBands()\n",
    "image_prec = climate_data.select('total_precipitation_sum').toBands()"
   ]
  },
  {
   "cell_type": "code",
   "execution_count": 37,
   "id": "b26d8297-8ddf-458a-91cf-ad4907640a6d",
   "metadata": {
    "tags": []
   },
   "outputs": [
    {
     "data": {
      "application/vnd.jupyter.widget-view+json": {
       "model_id": "5c7a5cbbe04c4c568e8e31839e5d8379",
       "version_major": 2,
       "version_minor": 0
      },
      "text/plain": [
       "Map(center=[32, 85], controls=(WidgetControl(options=['position', 'transparent_bg'], widget=HBox(children=(Tog…"
      ]
     },
     "execution_count": 37,
     "metadata": {},
     "output_type": "execute_result"
    }
   ],
   "source": [
    "# visualize summer temp\n",
    "t_summer = climate_data.select('temperature_2m').filter(ee.Filter.calendarRange(6,8,'month'))\n",
    "t_summer_modern = t_summer.filter(ee.Filter.calendarRange(2014,2023,'year')).mean().clip(ee.Geometry.BBox(60, 20, 110, 45))\n",
    "t_summer_historic = t_summer.filter(ee.Filter.calendarRange(1980,1989,'year')).mean().clip(ee.Geometry.BBox(60, 20, 110, 45))          \n",
    "t_summer_delta = t_summer_modern.subtract(t_summer_historic)\n",
    "\n",
    "p_summer = climate_data.select('total_precipitation_sum').filter(ee.Filter.calendarRange(6,8,'month'))\n",
    "p_summer_modern = p_summer.filter(ee.Filter.calendarRange(2014,2023,'year')).mean().clip(ee.Geometry.BBox(60, 20, 110, 45))\n",
    "p_summer_historic = p_summer.filter(ee.Filter.calendarRange(1980,1989,'year')).mean().clip(ee.Geometry.BBox(60, 20, 110, 45))          \n",
    "p_summer_delta = p_summer_modern.subtract(p_summer_historic)\n",
    "\n",
    "# Create a default map\n",
    "Map = geemap.Map(basemap='HYBRID')\n",
    "Map.setCenter(85, 32, 4) \n",
    "\n",
    "# Define the visualization parameters.\n",
    "vizParamsT = {'palette':['blue','white','red'],\n",
    "             'min': -3, 'max': 3}\n",
    "vizParamsP = {'palette':['blue','white','red'],\n",
    "             'min': -1, 'max': 1}\n",
    "\n",
    "# Center the map and display the image.\n",
    "# Map.setCenter(-122.1899, 37.5010, 8) # San Francisco Bay\n",
    "Map.addLayer(t_summer_delta, vizParamsT, 'summerT')\n",
    "Map.addLayer(p_summer_delta, vizParamsP, 'summerP')\n",
    "\n",
    "# Display the map\n",
    "Map"
   ]
  },
  {
   "cell_type": "code",
   "execution_count": 6,
   "id": "5c3b2a92-6808-4ffb-a7a5-b576e9d0509e",
   "metadata": {
    "tags": []
   },
   "outputs": [
    {
     "name": "stdout",
     "output_type": "stream",
     "text": [
      "Generating URL ...\n",
      "Downloading data from https://earthengine.googleapis.com/v1/projects/earthengine-legacy/tables/ff2d9e9842b3cf9c6cfd912f420daf23-b9cc6e31ab1f2eb48b0b3e997baba4d7:getFeatures\n",
      "Please wait ...\n",
      "Data downloaded to C:\\Users\\lzell\\OneDrive - Colostate\\Desktop\\HMA2\\Scripts\\era5land_monthly_T.csv\n",
      "Generating URL ...\n",
      "Downloading data from https://earthengine.googleapis.com/v1/projects/earthengine-legacy/tables/3bda2350ea1fe21c3f0b01c22331f25e-4e83e9f5a3d6e005cb5246fe617edc4a:getFeatures\n",
      "Please wait ...\n",
      "Data downloaded to C:\\Users\\lzell\\OneDrive - Colostate\\Desktop\\HMA2\\Scripts\\era5land_monthly_P.csv\n"
     ]
    }
   ],
   "source": [
    "# iterate through list of glaciers, sample at location\n",
    "all_Ts = []\n",
    "all_Ps = []\n",
    "\n",
    "for i in range(len(rgi_ids)):\n",
    "    # if i>2: continue\n",
    "    rgi_id = rgi_ids[i]\n",
    "    centroid = centroids[i]\n",
    "\n",
    "    # format centroid to ee.Geometry\n",
    "    centroid_ee = ee.Geometry.Point([centroid.x, centroid.y])#.buffer(10)\n",
    "    \n",
    "    # sample the temp/precip at this location\n",
    "    sample_T_i = image_temp.sample(region=centroid_ee, geometries=False, numPixels=1)\n",
    "    sample_P_i = image_prec.sample(region=centroid_ee, geometries=False, numPixels=1)\n",
    "    \n",
    "    # add rgi_id as property\n",
    "    sample_T_i = sample_T_i.map(lambda f: f.set('rgi_id', rgi_id))\n",
    "    sample_P_i = sample_P_i.map(lambda f: f.set('rgi_id', rgi_id))\n",
    "    \n",
    "    # append to list to be combined later\n",
    "    all_Ts.append(sample_T_i)\n",
    "    all_Ps.append(sample_P_i)\n",
    "\n",
    "# flatten to single FC\n",
    "all_Ts_fc = ee.FeatureCollection(all_Ts).flatten()\n",
    "all_Ps_fc = ee.FeatureCollection(all_Ps).flatten()\n",
    "\n",
    "# save as csv\n",
    "geemap.ee_to_csv(all_Ts_fc, filename='era5land_monthly_T.csv')\n",
    "geemap.ee_to_csv(all_Ps_fc, filename='era5land_monthly_P.csv')"
   ]
  }
 ],
 "metadata": {
  "kernelspec": {
   "display_name": "Python 3 (ipykernel)",
   "language": "python",
   "name": "python3"
  },
  "language_info": {
   "codemirror_mode": {
    "name": "ipython",
    "version": 3
   },
   "file_extension": ".py",
   "mimetype": "text/x-python",
   "name": "python",
   "nbconvert_exporter": "python",
   "pygments_lexer": "ipython3",
   "version": "3.8.17"
  }
 },
 "nbformat": 4,
 "nbformat_minor": 5
}
