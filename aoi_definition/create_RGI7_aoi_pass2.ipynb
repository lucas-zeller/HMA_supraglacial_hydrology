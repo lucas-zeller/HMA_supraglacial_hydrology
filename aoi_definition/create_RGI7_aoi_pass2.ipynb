{
 "cells": [
  {
   "cell_type": "markdown",
   "id": "7afc8cee-fb68-459f-8172-e2cf4b42bdb1",
   "metadata": {},
   "source": [
    "### Aggregate the final glaciers that have been chosen for our study.\n",
    "\n",
    "Prior to this:\n",
    "1. we automated the first-pass of by selecting glaciers according to debris-covered area in herreid et al 2020\n",
    "2. we manually inspected those glaciers in QGIS, with multiple imagery basemaps, to select glaciers that we thought had significant debris cover\n",
    "3. we then created a sentienl-2 cloud-free snow-free mosaic in GEE, which we used to further sub-select glaciers that had a significant portion of debris cover. this generally meant they had at least a 500 m stretch of continuous debris cover with no exposed glacier ice within this section.\n",
    "\n",
    "Now we have a csv that holds those rgi IDs, so we are going to create a final RGI subset with only those outlines (and also subset the herreid datasets as well)"
   ]
  },
  {
   "cell_type": "code",
   "execution_count": 1,
   "id": "4589cbed-ab3e-4663-ae7b-486569421798",
   "metadata": {
    "tags": []
   },
   "outputs": [],
   "source": [
    "import os\n",
    "import rasterio as rio\n",
    "import numpy as np\n",
    "import shapely\n",
    "import pyproj\n",
    "import geopandas as gpd\n",
    "import matplotlib.pyplot as plt\n",
    "import rioxarray as riox\n",
    "import rasterio as rio\n",
    "import xarray as xr\n",
    "import pandas as pd\n",
    "from datetime import timedelta\n",
    "from datetime import datetime"
   ]
  },
  {
   "cell_type": "code",
   "execution_count": 2,
   "id": "238e608f-29fe-4a0a-86c3-cccbd504ea74",
   "metadata": {
    "tags": []
   },
   "outputs": [],
   "source": [
    "# define folder and file paths\n",
    "folder_HMA = os.path.join('C:',os.sep,'Users','lzell','OneDrive - Colostate','Desktop',\"HMA2\")\n",
    "folder_debris = os.path.join(folder_HMA, 'Datasets', 'debris cover')\n",
    "folder_rgi = os.path.join(folder_HMA, 'Datasets', 'RGI')\n",
    "folder_lakes = os.path.join(folder_HMA, 'Datasets', 'lake inventories')"
   ]
  },
  {
   "cell_type": "code",
   "execution_count": 3,
   "id": "7d5f8bee-242c-4d88-a365-d02603e60706",
   "metadata": {
    "tags": []
   },
   "outputs": [],
   "source": [
    "# open csvs that allow us to link rgiids between v6 and v7\n",
    "link_13 = pd.read_csv(os.path.join(folder_rgi, 'links', 'RGI2000-v7.0-G-13_central_asia-rgi6_links.csv'))\n",
    "link_14 = pd.read_csv(os.path.join(folder_rgi, 'links', 'RGI2000-v7.0-G-14_south_asia_west-rgi6_links.csv'))\n",
    "link_15 = pd.read_csv(os.path.join(folder_rgi, 'links', 'RGI2000-v7.0-G-15_south_asia_east-rgi6_links.csv'))\n",
    "# link_15.head()"
   ]
  },
  {
   "cell_type": "code",
   "execution_count": 4,
   "id": "314e41a4-4179-4dab-9e89-4fe4a71c7736",
   "metadata": {
    "tags": []
   },
   "outputs": [],
   "source": [
    "##### open RGI v7 and herreid2020 data\n",
    "\n",
    "# herreid debris cover, herreid glacier extents, rgi v7, and then fix 3d geometry\n",
    "h_dc_15 = gpd.read_file(os.path.join(folder_debris, 'Herreid2020', '15SouthAsiaEast', '15SouthAsiaEast_minGl1km2_debrisCover.shp')).to_crs(\"ESRI:102025\")\n",
    "h_g_15 = gpd.read_file(os.path.join(folder_debris, 'Herreid2020', '15SouthAsiaEast', '15SouthAsiaEast_minGl1km2.shp')).to_crs(\"ESRI:102025\")\n",
    "rgi_15 = gpd.read_file(os.path.join(folder_rgi, 'v7', 'G', 'RGI2000-v7.0-G-15_south_asia_east', 'RGI2000-v7.0-G-15_south_asia_east.shp')).to_crs(\"ESRI:102025\")\n",
    "rgi_15['geometry'] = gpd.GeoSeries.from_wkb(rgi_15.to_wkb(output_dimension=2).geometry)\n",
    "\n",
    "h_dc_13 = gpd.read_file(os.path.join(folder_debris, 'Herreid2020', '13CentralAsia', '13CentralAsia_minGl1km2_debrisCover.shp')).to_crs(\"ESRI:102025\")\n",
    "h_g_13 = gpd.read_file(os.path.join(folder_debris, 'Herreid2020', '13CentralAsia', '13CentralAsia_minGl1km2.shp')).to_crs(\"ESRI:102025\")\n",
    "rgi_13 = gpd.read_file(os.path.join(folder_rgi, 'v7', 'G', 'RGI2000-v7.0-G-13_central_asia', 'RGI2000-v7.0-G-13_central_asia.shp')).to_crs(\"ESRI:102025\")\n",
    "rgi_13['geometry'] = gpd.GeoSeries.from_wkb(rgi_13.to_wkb(output_dimension=2).geometry)\n",
    "\n",
    "h_dc_14 = gpd.read_file(os.path.join(folder_debris, 'Herreid2020', '14SouthAsiaWest', '14SouthAsiaWest_minGl1km2_debrisCover.shp')).to_crs(\"ESRI:102025\")\n",
    "h_g_14 = gpd.read_file(os.path.join(folder_debris, 'Herreid2020', '14SouthAsiaWest', '14SouthAsiaWest_minGl1km2.shp')).to_crs(\"ESRI:102025\")\n",
    "rgi_14 = gpd.read_file(os.path.join(folder_rgi, 'v7', 'G', 'RGI2000-v7.0-G-14_south_asia_west', 'RGI2000-v7.0-G-14_south_asia_west.shp')).to_crs(\"ESRI:102025\")\n",
    "rgi_14['geometry'] = gpd.GeoSeries.from_wkb(rgi_14.to_wkb(output_dimension=2).geometry)"
   ]
  },
  {
   "cell_type": "code",
   "execution_count": 5,
   "id": "0997667e-f3a2-476a-b053-1079c50424a2",
   "metadata": {
    "tags": []
   },
   "outputs": [
    {
     "data": {
      "text/plain": [
       "(131762, 29)"
      ]
     },
     "execution_count": 5,
     "metadata": {},
     "output_type": "execute_result"
    }
   ],
   "source": [
    "# concat everything into single dfs\n",
    "h_dc_all = gpd.GeoDataFrame(pd.concat([h_dc_13, h_dc_14, h_dc_15]))\n",
    "h_g_all = gpd.GeoDataFrame(pd.concat([h_g_13, h_g_14, h_g_15]))\n",
    "rgi_all = gpd.GeoDataFrame(pd.concat([rgi_13, rgi_14, rgi_15]))\n",
    "rgi_all.shape"
   ]
  },
  {
   "cell_type": "code",
   "execution_count": 15,
   "id": "69e48ff3",
   "metadata": {
    "tags": []
   },
   "outputs": [
    {
     "data": {
      "text/plain": [
       "(831, 1)"
      ]
     },
     "execution_count": 15,
     "metadata": {},
     "output_type": "execute_result"
    }
   ],
   "source": [
    "# now open our list of glaciers that we've hand picked\n",
    "path_open = os.path.join(folder_HMA, \"Datasets\", 'AOI definition', 'pass2_results.csv')\n",
    "rgi_selected_ids = pd.read_csv(path_open)\n",
    "rgi_selected_ids.shape"
   ]
  },
  {
   "cell_type": "code",
   "execution_count": 16,
   "id": "80deaacb-e29d-432d-8ad9-6d2c989ba044",
   "metadata": {
    "tags": []
   },
   "outputs": [
    {
     "data": {
      "text/plain": [
       "(831, 29)"
      ]
     },
     "execution_count": 16,
     "metadata": {},
     "output_type": "execute_result"
    }
   ],
   "source": [
    "# grab these from rgi gdf\n",
    "rgi_selected = rgi_all[ rgi_all['rgi_id'].isin( rgi_selected_ids['rgi_id']) ]\n",
    "rgi_selected.shape"
   ]
  },
  {
   "cell_type": "code",
   "execution_count": 17,
   "id": "49e28236-60ab-46da-93de-fd82e1ac08c2",
   "metadata": {
    "tags": []
   },
   "outputs": [],
   "source": [
    "# buffer rgi by 5km\n",
    "rgi_5km_buffer = gpd.GeoDataFrame(crs=rgi_selected.crs,\n",
    "                       geometry=[rgi_selected.buffer(5000).unary_union])"
   ]
  },
  {
   "cell_type": "code",
   "execution_count": 18,
   "id": "a4838201-90f9-4e3f-9ea2-8e675747bfa7",
   "metadata": {
    "tags": []
   },
   "outputs": [],
   "source": [
    "# save these\n",
    "out_path = os.path.join(folder_HMA, \"Datasets\", 'AOI definition', 'Final AOI', \"AOI_rgi.shp\")\n",
    "rgi_selected.to_file(out_path)\n",
    "\n",
    "out_path = os.path.join(folder_HMA, \"Datasets\", 'AOI definition', 'Final AOI', \"AOI_5km.shp\")\n",
    "rgi_5km_buffer.to_file(out_path)"
   ]
  },
  {
   "cell_type": "code",
   "execution_count": 19,
   "id": "9b6cd2e1-6e5d-4be1-ba99-06c5c93176db",
   "metadata": {
    "tags": []
   },
   "outputs": [],
   "source": [
    "# clip herreid debris-cover to this 5km buffer and save\n",
    "h_dc_5km = gpd.GeoDataFrame(crs=rgi_selected.crs,\n",
    "                       geometry=[gpd.overlay(rgi_5km_buffer, h_dc_all, how='intersection').unary_union])\n",
    "\n",
    "out_path = os.path.join(folder_HMA, \"Datasets\", 'AOI definition', 'Final AOI', \"herreid_dc_5km.shp\")\n",
    "h_dc_5km.to_file(out_path)"
   ]
  }
 ],
 "metadata": {
  "kernelspec": {
   "display_name": "Python 3 (ipykernel)",
   "language": "python",
   "name": "python3"
  },
  "language_info": {
   "codemirror_mode": {
    "name": "ipython",
    "version": 3
   },
   "file_extension": ".py",
   "mimetype": "text/x-python",
   "name": "python",
   "nbconvert_exporter": "python",
   "pygments_lexer": "ipython3",
   "version": "3.8.17"
  }
 },
 "nbformat": 4,
 "nbformat_minor": 5
}
