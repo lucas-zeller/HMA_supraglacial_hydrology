{
 "cells": [
  {
   "cell_type": "markdown",
   "id": "7afc8cee-fb68-459f-8172-e2cf4b42bdb1",
   "metadata": {},
   "source": [
    "### Create a first-pass of glaciers that we believe should be included in the study.\n",
    "\n",
    "We are going to identify prospective debris-covered glaciers in our study region (RGI v7.0 regions 13, 14, and 15). \n",
    "\n",
    "In order to be included, a glacier's RGI v7.0 outline must:\n",
    "1. be larger in area than 2 km2\n",
    "2. contain at least 1 km2 debris cover from herreid et al 2020 OR have at least 2 km2 of combined debris cover and 'missing' area from herreid 2020 (the glacier outlines used in herreid 2020 do not perfectly overlap the RGI7 outlines)"
   ]
  },
  {
   "cell_type": "code",
   "execution_count": 1,
   "id": "4589cbed-ab3e-4663-ae7b-486569421798",
   "metadata": {
    "tags": []
   },
   "outputs": [],
   "source": [
    "import os\n",
    "import rasterio as rio\n",
    "import numpy as np\n",
    "import shapely\n",
    "import pyproj\n",
    "import geopandas as gpd\n",
    "import matplotlib.pyplot as plt\n",
    "import rioxarray as riox\n",
    "import rasterio as rio\n",
    "import xarray as xr\n",
    "import pandas as pd\n",
    "from datetime import timedelta\n",
    "from datetime import datetime"
   ]
  },
  {
   "cell_type": "code",
   "execution_count": 2,
   "id": "238e608f-29fe-4a0a-86c3-cccbd504ea74",
   "metadata": {
    "tags": []
   },
   "outputs": [],
   "source": [
    "# define folder and file paths\n",
    "folder_HMA = os.path.join('C:',os.sep,'Users','lzell','OneDrive - Colostate','Desktop',\"HMA2\")\n",
    "folder_debris = os.path.join(folder_HMA, 'Datasets', 'debris cover')\n",
    "folder_rgi = os.path.join(folder_HMA, 'Datasets', 'RGI')\n",
    "folder_lakes = os.path.join(folder_HMA, 'Datasets', 'lake inventories')"
   ]
  },
  {
   "cell_type": "code",
   "execution_count": 3,
   "id": "7d5f8bee-242c-4d88-a365-d02603e60706",
   "metadata": {
    "tags": []
   },
   "outputs": [],
   "source": [
    "# open csvs that allow us to link rgiids between v6 and v7\n",
    "link_13 = pd.read_csv(os.path.join(folder_rgi, 'links', 'RGI2000-v7.0-G-13_central_asia-rgi6_links.csv'))\n",
    "link_14 = pd.read_csv(os.path.join(folder_rgi, 'links', 'RGI2000-v7.0-G-14_south_asia_west-rgi6_links.csv'))\n",
    "link_15 = pd.read_csv(os.path.join(folder_rgi, 'links', 'RGI2000-v7.0-G-15_south_asia_east-rgi6_links.csv'))\n",
    "# link_15.head()"
   ]
  },
  {
   "cell_type": "code",
   "execution_count": 4,
   "id": "314e41a4-4179-4dab-9e89-4fe4a71c7736",
   "metadata": {
    "tags": []
   },
   "outputs": [],
   "source": [
    "##### open RGI v7 and herreid2020 data\n",
    "\n",
    "# herreid debris cover, herreid glacier extents, rgi v7, and then fix 3d geometry\n",
    "h_dc_15 = gpd.read_file(os.path.join(folder_debris, 'Herreid2020', '15SouthAsiaEast', '15SouthAsiaEast_minGl1km2_debrisCover.shp')).to_crs(\"ESRI:102025\")\n",
    "h_g_15 = gpd.read_file(os.path.join(folder_debris, 'Herreid2020', '15SouthAsiaEast', '15SouthAsiaEast_minGl1km2.shp')).to_crs(\"ESRI:102025\")\n",
    "rgi_15 = gpd.read_file(os.path.join(folder_rgi, 'v7', 'G', 'RGI2000-v7.0-G-15_south_asia_east', 'RGI2000-v7.0-G-15_south_asia_east.shp')).to_crs(\"ESRI:102025\")\n",
    "rgi_15['geometry'] = gpd.GeoSeries.from_wkb(rgi_15.to_wkb(output_dimension=2).geometry)\n",
    "\n",
    "h_dc_13 = gpd.read_file(os.path.join(folder_debris, 'Herreid2020', '13CentralAsia', '13CentralAsia_minGl1km2_debrisCover.shp')).to_crs(\"ESRI:102025\")\n",
    "h_g_13 = gpd.read_file(os.path.join(folder_debris, 'Herreid2020', '13CentralAsia', '13CentralAsia_minGl1km2.shp')).to_crs(\"ESRI:102025\")\n",
    "rgi_13 = gpd.read_file(os.path.join(folder_rgi, 'v7', 'G', 'RGI2000-v7.0-G-13_central_asia', 'RGI2000-v7.0-G-13_central_asia.shp')).to_crs(\"ESRI:102025\")\n",
    "rgi_13['geometry'] = gpd.GeoSeries.from_wkb(rgi_13.to_wkb(output_dimension=2).geometry)\n",
    "\n",
    "h_dc_14 = gpd.read_file(os.path.join(folder_debris, 'Herreid2020', '14SouthAsiaWest', '14SouthAsiaWest_minGl1km2_debrisCover.shp')).to_crs(\"ESRI:102025\")\n",
    "h_g_14 = gpd.read_file(os.path.join(folder_debris, 'Herreid2020', '14SouthAsiaWest', '14SouthAsiaWest_minGl1km2.shp')).to_crs(\"ESRI:102025\")\n",
    "rgi_14 = gpd.read_file(os.path.join(folder_rgi, 'v7', 'G', 'RGI2000-v7.0-G-14_south_asia_west', 'RGI2000-v7.0-G-14_south_asia_west.shp')).to_crs(\"ESRI:102025\")\n",
    "rgi_14['geometry'] = gpd.GeoSeries.from_wkb(rgi_14.to_wkb(output_dimension=2).geometry)\n"
   ]
  },
  {
   "cell_type": "code",
   "execution_count": 5,
   "id": "0997667e-f3a2-476a-b053-1079c50424a2",
   "metadata": {},
   "outputs": [
    {
     "data": {
      "text/plain": [
       "(131762, 29)"
      ]
     },
     "execution_count": 5,
     "metadata": {},
     "output_type": "execute_result"
    }
   ],
   "source": [
    "# concat everything into single dfs\n",
    "h_dc_all = gpd.GeoDataFrame(pd.concat([h_dc_13, h_dc_14, h_dc_15]))\n",
    "h_g_all = gpd.GeoDataFrame(pd.concat([h_g_13, h_g_14, h_g_15]))\n",
    "rgi_all = gpd.GeoDataFrame(pd.concat([rgi_13, rgi_14, rgi_15]))\n",
    "rgi_all.shape"
   ]
  },
  {
   "cell_type": "code",
   "execution_count": 6,
   "id": "69e48ff3",
   "metadata": {
    "tags": []
   },
   "outputs": [
    {
     "data": {
      "text/plain": [
       "(8011, 29)"
      ]
     },
     "execution_count": 6,
     "metadata": {},
     "output_type": "execute_result"
    }
   ],
   "source": [
    "# remove any glaciers that are less than 2 km2\n",
    "rgi_all_2km = rgi_all[rgi_all['area_km2']>=2]\n",
    "rgi_all_2km.shape"
   ]
  },
  {
   "cell_type": "code",
   "execution_count": 10,
   "id": "95c3e798",
   "metadata": {},
   "outputs": [],
   "source": [
    "### calculate herreid-defined debris cover within each rgi7 outline\n",
    "\n",
    "# get the geometric intersection of each rgi outline with the debris cover\n",
    "intersected = gpd.overlay(rgi_all_2km, h_dc_all, how='intersection')\n",
    "intersected2 = intersected.dissolve(by='rgi_id').reset_index() # dissolve because sometime these overlap\n",
    "\n",
    "# Calculate the area of each resulting polygon\n",
    "intersected2['area_dc'] = intersected2['geometry'].area / (1000*1000)\n",
    "\n",
    "# aggregate intersected area within each rgiid\n",
    "total_areas = intersected2[['rgi_id','area_dc']].groupby('rgi_id').sum()\n",
    "\n",
    "# merge the debris intersection area back to the rgi gdf\n",
    "rgi_all_2km_debris = pd.merge(rgi_all_2km, total_areas, on=['rgi_id'], how='left')\n",
    "\n",
    "# fill na with 0s\n",
    "rgi_all_2km_debris['area_dc'] = rgi_all_2km_debris['area_dc'].fillna(0)"
   ]
  },
  {
   "cell_type": "code",
   "execution_count": 11,
   "id": "8c565559",
   "metadata": {},
   "outputs": [],
   "source": [
    "### calculate the parts of each rgi7 outline that herreid did not consider\n",
    "\n",
    "# get the geometric intersection of each rgi outline with the debris cover\n",
    "intersected = gpd.overlay(rgi_all_2km, h_g_all, how='intersection')\n",
    "intersected2 = intersected.dissolve(by='rgi_id').reset_index() # dissolve because sometime these overlap\n",
    "\n",
    "# Calculate the area of each resulting polygon\n",
    "intersected2['area_h'] = intersected2['geometry'].area / (1000*1000)\n",
    "\n",
    "# aggregate intersected area within each rgiid\n",
    "total_areas = intersected2[['rgi_id','area_h']].groupby('rgi_id').sum()\n",
    "\n",
    "# merge the debris intersection area back to the rgi gdf\n",
    "rgi_all_2km_missing = pd.merge(rgi_all_2km, total_areas, on=['rgi_id'], how='left')\n",
    "\n",
    "# fill na with 0s\n",
    "rgi_all_2km_missing['area_h'] = rgi_all_2km_missing['area_h'].fillna(0)\n",
    "\n",
    "# add column calculating area of rgiv7\n",
    "rgi_all_2km_missing['area_rgi7'] = rgi_all_2km_missing['geometry'].area / (1000*1000)\n",
    "# rgi_all_2km_glaciers['area_rgi7b'] = rgi_all_2km_glaciers['area_km2']\n",
    "\n",
    "# add column to hold difference between the two\n",
    "rgi_all_2km_missing['area_miss'] = rgi_all_2km_missing['area_rgi7'] - rgi_all_2km_missing['area_h'] \n",
    "rgi_all_2km_missing['area_miss'] = rgi_all_2km_missing['area_miss'].round(2)\n",
    "# rgi_all_2km_missing.head()"
   ]
  },
  {
   "cell_type": "code",
   "execution_count": 12,
   "id": "3fbdc5bb",
   "metadata": {},
   "outputs": [
    {
     "data": {
      "text/plain": [
       "(8011, 33)"
      ]
     },
     "execution_count": 12,
     "metadata": {},
     "output_type": "execute_result"
    }
   ],
   "source": [
    "# merge everything back together\n",
    "rgi_all_merged = pd.merge(rgi_all_2km, rgi_all_2km_debris[['rgi_id','area_dc']], on=['rgi_id'], how='left')\n",
    "rgi_all_merged = pd.merge(rgi_all_merged, rgi_all_2km_missing[['rgi_id','area_h','area_miss']], on=['rgi_id'], how='left')\n",
    "# rgi_all_merged['area_dc'] = rgi_all_2km_debris['area_dc'] \n",
    "# rgi_all_merged['area_miss'] = rgi_all_2km_missing['area_missed'] \n",
    "rgi_all_merged['dc_plus_m'] = rgi_all_merged['area_dc'] + rgi_all_merged['area_miss']\n",
    "rgi_all_merged.shape"
   ]
  },
  {
   "cell_type": "code",
   "execution_count": 13,
   "id": "b90a527e-02cd-4913-9243-81938d6ce341",
   "metadata": {
    "tags": []
   },
   "outputs": [
    {
     "data": {
      "text/plain": [
       "(1577, 33)"
      ]
     },
     "execution_count": 13,
     "metadata": {},
     "output_type": "execute_result"
    }
   ],
   "source": [
    "# filter to only those that has 1 km2 of debris, or 2km2 of debris+missing areas\n",
    "rgi_out = rgi_all_merged [ (rgi_all_merged['dc_plus_m']>2) | \n",
    "                           (rgi_all_merged['area_dc']>1) ]\n",
    "rgi_out.shape"
   ]
  },
  {
   "cell_type": "code",
   "execution_count": 14,
   "id": "2ef1c9e7-06f4-43a0-b7f8-62b8cb039311",
   "metadata": {
    "tags": []
   },
   "outputs": [],
   "source": [
    "# save\n",
    "out_path = os.path.join(folder_HMA, \"Datasets\", 'AOI definition', 'prospective glaciers', \"prospective_glaciers.shp\")\n",
    "rgi_out.to_file(out_path)"
   ]
  }
 ],
 "metadata": {
  "kernelspec": {
   "display_name": "Python 3 (ipykernel)",
   "language": "python",
   "name": "python3"
  },
  "language_info": {
   "codemirror_mode": {
    "name": "ipython",
    "version": 3
   },
   "file_extension": ".py",
   "mimetype": "text/x-python",
   "name": "python",
   "nbconvert_exporter": "python",
   "pygments_lexer": "ipython3",
   "version": "3.8.17"
  }
 },
 "nbformat": 4,
 "nbformat_minor": 5
}
