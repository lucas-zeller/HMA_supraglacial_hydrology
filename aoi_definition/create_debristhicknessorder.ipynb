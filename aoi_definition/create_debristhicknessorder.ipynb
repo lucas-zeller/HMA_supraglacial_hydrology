{
 "cells": [
  {
   "cell_type": "markdown",
   "id": "7afc8cee-fb68-459f-8172-e2cf4b42bdb1",
   "metadata": {},
   "source": [
    "### Create a first-pass of glaciers that we believe should be included in the study.\n",
    "\n",
    "We are going to identify prospective debris-covered glaciers in our study region (RGI v7.0 regions 13, 14, and 15). \n",
    "\n",
    "In order to be included, a glacier's RGI v7.0 outline must:\n",
    "1. be larger in area than 2 km2\n",
    "2. contain at least 1 km2 debris cover from herreid et al 2020 OR have at least 2 km2 of combined debris cover and 'missing' area from herreid 2020 (the glacier outlines used in herreid 2020 do not perfectly overlap the RGI7 outlines)"
   ]
  },
  {
   "cell_type": "code",
   "execution_count": 1,
   "id": "4589cbed-ab3e-4663-ae7b-486569421798",
   "metadata": {
    "tags": []
   },
   "outputs": [],
   "source": [
    "import os\n",
    "import rasterio as rio\n",
    "import numpy as np\n",
    "import shapely\n",
    "import pyproj\n",
    "import geopandas as gpd\n",
    "import matplotlib.pyplot as plt\n",
    "import rioxarray as riox\n",
    "import rasterio as rio\n",
    "import xarray as xr\n",
    "import pandas as pd\n",
    "from datetime import timedelta\n",
    "from datetime import datetime"
   ]
  },
  {
   "cell_type": "code",
   "execution_count": 105,
   "id": "238e608f-29fe-4a0a-86c3-cccbd504ea74",
   "metadata": {
    "tags": []
   },
   "outputs": [],
   "source": [
    "# define folder and file paths\n",
    "folder_HMA = os.path.join('C:',os.sep,'Users','lzell','OneDrive - Colostate','Desktop',\"HMA2\")\n",
    "folder_glaciers = os.path.join(folder_HMA, 'Glacier Products')\n",
    "fp_rgi = os.path.join(folder_HMA, 'Datasets', 'AOI definition', 'Final AOI', \"Final Products\", 'AOI_full_rgi.shp')\n",
    "fp_dc = os.path.join(folder_HMA, 'Datasets', 'AOI definition', 'Final AOI', \"Final Products\", 'AOI_dc_rgi.shp')\n",
    "folder_rgi6 = os.path.join(folder_HMA, \"Datasets\", \"RGI\", \"v6\")\n",
    "folder_rgi = os.path.join(folder_HMA, 'Datasets', 'RGI')\n",
    "fp_regions = os.path.join(folder_HMA, 'Datasets', 'AOI definition', 'Final AOI', \"Final Products\", 'subregion_boundaries.shp')"
   ]
  },
  {
   "cell_type": "code",
   "execution_count": 9,
   "id": "7d5f8bee-242c-4d88-a365-d02603e60706",
   "metadata": {
    "tags": []
   },
   "outputs": [],
   "source": [
    "# open csvs that allow us to link rgiids between v6 and v7\n",
    "link_13 = pd.read_csv(os.path.join(folder_rgi, 'links', 'RGI2000-v7.0-G-13_central_asia-rgi6_links.csv'))\n",
    "link_14 = pd.read_csv(os.path.join(folder_rgi, 'links', 'RGI2000-v7.0-G-14_south_asia_west-rgi6_links.csv'))\n",
    "link_15 = pd.read_csv(os.path.join(folder_rgi, 'links', 'RGI2000-v7.0-G-15_south_asia_east-rgi6_links.csv'))\n",
    "link_all = pd.concat([link_13,link_14,link_15])"
   ]
  },
  {
   "cell_type": "code",
   "execution_count": 17,
   "id": "314e41a4-4179-4dab-9e89-4fe4a71c7736",
   "metadata": {
    "tags": []
   },
   "outputs": [],
   "source": [
    "##### open our study glaciers rgi\n",
    "rgi_gdf = gpd.read_file(fp_rgi).to_crs(\"ESRI:102025\")\n",
    "dc_gdf = gpd.read_file(fp_dc).to_crs(\"ESRI:102025\")"
   ]
  },
  {
   "cell_type": "code",
   "execution_count": 23,
   "id": "8ff243e9-c7e6-4c72-896e-914f8fd808e5",
   "metadata": {
    "tags": []
   },
   "outputs": [],
   "source": [
    "# open rgiv6\n",
    "rgi613 = gpd.read_file(os.path.join(folder_rgi6,\"13.rgi60.CentralAsia\", '13_rgi60_CentralAsia.shp')).to_crs(\"ESRI:102025\")\n",
    "rgi614 = gpd.read_file(os.path.join(folder_rgi6,\"14.rgi60.SouthAsiaWest\", '14_rgi60_SouthAsiaWest.shp')).to_crs(\"ESRI:102025\")\n",
    "rgi615 = gpd.read_file(os.path.join(folder_rgi6,\"15.rgi60.SouthAsiaEast\", '15_rgi60_SouthAsiaEast.shp')).to_crs(\"ESRI:102025\")\n",
    "rgi6all = gpd.GeoDataFrame(pd.concat([rgi613, rgi614, rgi615]))"
   ]
  },
  {
   "cell_type": "code",
   "execution_count": 51,
   "id": "19137e32-d96b-470b-aa11-623a35c25d8c",
   "metadata": {
    "tags": []
   },
   "outputs": [],
   "source": [
    "# subset rgi6 to glacier that intersect with dc_gdf\n",
    "join = gpd.sjoin(left_df=dc_gdf, right_df=rgi6all[['geometry', 'RGIId']], how=\"left\")\n",
    "rgi6_names = join['RGIId'].values\n",
    "rgi6overlapglaciers = rgi6all[rgi6all['RGIId'].isin(rgi6_names)]"
   ]
  },
  {
   "cell_type": "code",
   "execution_count": 52,
   "id": "fe358a9b-3775-45e5-9f8a-1e7c48b68b54",
   "metadata": {
    "tags": []
   },
   "outputs": [],
   "source": [
    "# save to visualize\n",
    "out_path = os.path.join(folder_HMA, \"rgi6glaciers.shp\")\n",
    "rgi6overlapglaciers.to_file(out_path)"
   ]
  },
  {
   "cell_type": "code",
   "execution_count": 112,
   "id": "b4b98fab-4d14-4222-8f9c-ecd6a460193a",
   "metadata": {
    "tags": []
   },
   "outputs": [],
   "source": [
    "# open subregions gdf, resave each as its own geom\n",
    "regions_gdf = gpd.read_file(fp_regions).to_crs(\"EPSG:4326\")\n",
    "for i in range(22):\n",
    "    subset = regions_gdf[regions_gdf['id']==i+1]\n",
    "    subset.to_file(os.path.join(folder_HMA, 'Datasets', 'debris thickness',\n",
    "                                'regions', f'r{str(i+1).zfill(2)}.json'), driver=\"GeoJSON\")\n",
    "# dataframe.to_file(\"output.json\", driver=\"GeoJSON\")"
   ]
  },
  {
   "cell_type": "code",
   "execution_count": 43,
   "id": "cd79ca17-1ccd-4ef6-9da6-e57b3c55d311",
   "metadata": {
    "tags": []
   },
   "outputs": [
    {
     "data": {
      "text/plain": [
       "(769, 30)"
      ]
     },
     "execution_count": 43,
     "metadata": {},
     "output_type": "execute_result"
    }
   ],
   "source": [
    "dc_gdf.shape"
   ]
  },
  {
   "cell_type": "code",
   "execution_count": 45,
   "id": "863b85c7-48f0-4e47-9a16-a356b63c008b",
   "metadata": {
    "tags": []
   },
   "outputs": [],
   "source": [
    "# aggregate list of our glaciers\n",
    "names_6 = join['RGIId'].values"
   ]
  },
  {
   "cell_type": "code",
   "execution_count": 46,
   "id": "06143445-019c-42b7-a934-e1795dce397d",
   "metadata": {
    "collapsed": true,
    "jupyter": {
     "outputs_hidden": true
    },
    "tags": []
   },
   "outputs": [
    {
     "data": {
      "text/plain": [
       "array(['RGI60-13.01148', 'RGI60-13.01432', 'RGI60-13.01316',\n",
       "       'RGI60-13.02655', 'RGI60-13.01956', 'RGI60-13.01863',\n",
       "       'RGI60-13.00788', 'RGI60-13.01231', 'RGI60-13.01184',\n",
       "       'RGI60-13.01392', 'RGI60-13.03762', 'RGI60-13.01937',\n",
       "       'RGI60-13.00906', 'RGI60-13.01410', 'RGI60-13.01536',\n",
       "       'RGI60-13.01178', 'RGI60-13.01027', 'RGI60-13.00940',\n",
       "       'RGI60-13.01268', 'RGI60-15.01078', 'RGI60-13.00982',\n",
       "       'RGI60-13.02647', 'RGI60-13.01969', 'RGI60-13.01980',\n",
       "       'RGI60-13.01044', 'RGI60-13.00885', 'RGI60-13.01333',\n",
       "       'RGI60-13.03308', nan, 'RGI60-13.01176', 'RGI60-13.02176',\n",
       "       'RGI60-13.01228', 'RGI60-13.03307', 'RGI60-13.01456',\n",
       "       'RGI60-13.01391', 'RGI60-13.01428', 'RGI60-13.03755',\n",
       "       'RGI60-13.01326', 'RGI60-13.01500', 'RGI60-13.01417',\n",
       "       'RGI60-13.01129', 'RGI60-13.02643', 'RGI60-14.18517',\n",
       "       'RGI60-14.15894', 'RGI60-14.15895', 'RGI60-14.15966',\n",
       "       'RGI60-14.15934', 'RGI60-14.15869', 'RGI60-14.15623',\n",
       "       'RGI60-14.15536', 'RGI60-14.11724', 'RGI60-14.12374',\n",
       "       'RGI60-14.12365', 'RGI60-14.12349', 'RGI60-14.11584',\n",
       "       'RGI60-14.11815', 'RGI60-14.11859', 'RGI60-14.14909',\n",
       "       'RGI60-14.14910', 'RGI60-14.12202', 'RGI60-14.14944',\n",
       "       'RGI60-14.11844', 'RGI60-14.15340', 'RGI60-14.11771',\n",
       "       'RGI60-14.15447', 'RGI60-14.15933', 'RGI60-14.15864',\n",
       "       'RGI60-14.16042', 'RGI60-14.12401', 'RGI60-14.11591',\n",
       "       'RGI60-14.15308', 'RGI60-14.15896', 'RGI60-14.15988',\n",
       "       'RGI60-14.12355', 'RGI60-14.15989', 'RGI60-14.15302',\n",
       "       'RGI60-14.16005', 'RGI60-14.14913', 'RGI60-14.15968',\n",
       "       'RGI60-14.15900', 'RGI60-14.15856', 'RGI60-14.16030',\n",
       "       'RGI60-14.15936', 'RGI60-14.16016', 'RGI60-14.15624',\n",
       "       'RGI60-14.16065', 'RGI60-14.16068', 'RGI60-14.11848',\n",
       "       'RGI60-14.15952', 'RGI60-14.15491', 'RGI60-14.15421',\n",
       "       'RGI60-14.12187', 'RGI60-14.12361', 'RGI60-14.12323',\n",
       "       'RGI60-14.14905', 'RGI60-14.11573', 'RGI60-15.07376',\n",
       "       'RGI60-15.06884', 'RGI60-15.08759', 'RGI60-15.06722',\n",
       "       'RGI60-15.06727', 'RGI60-15.06724', 'RGI60-15.07036',\n",
       "       'RGI60-15.06701', 'RGI60-15.06776', 'RGI60-15.06777',\n",
       "       'RGI60-15.08877', 'RGI60-15.08879', 'RGI60-15.06385',\n",
       "       'RGI60-15.06358', 'RGI60-15.05933', 'RGI60-15.05968',\n",
       "       'RGI60-15.05967', 'RGI60-15.05786', 'RGI60-15.06515',\n",
       "       'RGI60-15.05945', 'RGI60-15.08967', 'RGI60-15.08966',\n",
       "       'RGI60-15.05623', 'RGI60-15.05583', 'RGI60-15.05576',\n",
       "       'RGI60-15.05727', 'RGI60-15.04858', 'RGI60-15.04653',\n",
       "       'RGI60-15.04347', 'RGI60-15.03973', 'RGI60-15.09249',\n",
       "       'RGI60-15.09194', 'RGI60-15.06881', 'RGI60-15.07123',\n",
       "       'RGI60-15.08775', 'RGI60-15.06607', 'RGI60-15.06563',\n",
       "       'RGI60-15.07034', 'RGI60-15.07245', 'RGI60-15.06472',\n",
       "       'RGI60-15.05606', 'RGI60-15.04830', 'RGI60-15.04860',\n",
       "       'RGI60-15.05038', 'RGI60-15.04789', 'RGI60-15.04763',\n",
       "       'RGI60-15.04631', 'RGI60-15.04714', 'RGI60-15.07501',\n",
       "       'RGI60-15.06556', 'RGI60-15.07151', 'RGI60-15.07164',\n",
       "       'RGI60-15.07124', 'RGI60-15.06562', 'RGI60-15.06686',\n",
       "       'RGI60-15.06383', 'RGI60-15.05879', 'RGI60-15.06314',\n",
       "       'RGI60-15.06038', 'RGI60-15.06347', 'RGI60-15.06366',\n",
       "       'RGI60-15.07042', 'RGI60-15.08968', 'RGI60-15.04603',\n",
       "       'RGI60-15.04474', 'RGI60-15.04060', 'RGI60-15.04056',\n",
       "       'RGI60-14.11606', 'RGI60-15.07587', 'RGI60-15.06977',\n",
       "       'RGI60-15.07122', 'RGI60-15.06558', 'RGI60-15.07158',\n",
       "       'RGI60-15.04071', 'RGI60-15.09255', 'RGI60-15.07257',\n",
       "       'RGI60-15.06723', 'RGI60-15.06194', 'RGI60-15.05989',\n",
       "       'RGI60-15.05587', 'RGI60-15.04441', nan, 'RGI60-15.04151',\n",
       "       'RGI60-15.10273', 'RGI60-15.06559', 'RGI60-15.06720',\n",
       "       'RGI60-15.04438', 'RGI60-15.04600', 'RGI60-15.04151',\n",
       "       'RGI60-15.04070', 'RGI60-15.09020', 'RGI60-15.04832',\n",
       "       'RGI60-15.06595', 'RGI60-15.04480', nan, 'RGI60-15.04045',\n",
       "       'RGI60-15.07153', 'RGI60-15.06597', 'RGI60-15.04785',\n",
       "       'RGI60-15.06981', 'RGI60-15.06763', 'RGI60-15.06674', nan,\n",
       "       'RGI60-15.04614', 'RGI60-15.09361', 'RGI60-15.09354',\n",
       "       'RGI60-15.04717', 'RGI60-15.04541', 'RGI60-15.06606', nan,\n",
       "       'RGI60-15.06941', 'RGI60-15.06623', 'RGI60-15.06828',\n",
       "       'RGI60-15.07148', 'RGI60-15.05966', 'RGI60-15.05899',\n",
       "       'RGI60-15.05353', 'RGI60-15.05226', 'RGI60-15.04428',\n",
       "       'RGI60-15.04609', 'RGI60-15.04119', 'RGI60-15.09457',\n",
       "       'RGI60-15.06666', 'RGI60-15.04833', 'RGI60-15.09408',\n",
       "       'RGI60-15.04121', 'RGI60-15.05140', 'RGI60-15.07072',\n",
       "       'RGI60-15.06961', 'RGI60-15.06618', 'RGI60-15.06345',\n",
       "       'RGI60-15.05964', 'RGI60-15.05196', 'RGI60-15.05210',\n",
       "       'RGI60-15.04759', 'RGI60-15.04758', 'RGI60-15.04753',\n",
       "       'RGI60-15.04719', 'RGI60-15.04023', 'RGI60-15.09377',\n",
       "       'RGI60-15.09380', 'RGI60-15.07375', 'RGI60-15.07439',\n",
       "       'RGI60-15.07374', 'RGI60-15.06574', 'RGI60-15.06519',\n",
       "       'RGI60-15.09426', 'RGI60-15.04176', 'RGI60-15.09459',\n",
       "       'RGI60-15.06557', 'RGI60-15.07073', 'RGI60-15.06741',\n",
       "       'RGI60-15.06561', 'RGI60-15.06546', 'RGI60-15.06357',\n",
       "       'RGI60-15.05926', 'RGI60-15.05930', 'RGI60-15.05997',\n",
       "       'RGI60-15.05932', 'RGI60-15.05194', 'RGI60-15.05211',\n",
       "       'RGI60-15.09338', 'RGI60-15.04018', 'RGI60-15.09457',\n",
       "       'RGI60-15.07075', 'RGI60-15.06826', 'RGI60-15.07141',\n",
       "       'RGI60-15.07025', 'RGI60-15.06564', 'RGI60-15.09491',\n",
       "       'RGI60-15.03403', 'RGI60-15.09858', 'RGI60-15.09868',\n",
       "       'RGI60-15.09803', 'RGI60-15.09839', 'RGI60-15.10342',\n",
       "       'RGI60-15.02789', 'RGI60-15.09481', 'RGI60-15.01509',\n",
       "       'RGI60-15.01553', 'RGI60-15.01305', 'RGI60-15.10147',\n",
       "       'RGI60-15.09965', 'RGI60-15.03366', 'RGI60-15.09991',\n",
       "       'RGI60-15.09492', 'RGI60-15.03435', 'RGI60-15.03945',\n",
       "       'RGI60-15.03948', 'RGI60-15.10209', 'RGI60-15.09474',\n",
       "       'RGI60-15.09475', 'RGI60-15.10689', nan, 'RGI60-15.02077',\n",
       "       'RGI60-15.01502', 'RGI60-15.09921', 'RGI60-15.09870',\n",
       "       'RGI60-15.02703', 'RGI60-15.02819', 'RGI60-15.03150',\n",
       "       'RGI60-15.02866', 'RGI60-15.09500', 'RGI60-15.09467',\n",
       "       'RGI60-15.09862', 'RGI60-15.02867', 'RGI60-15.03744',\n",
       "       'RGI60-15.03201', 'RGI60-15.10697', 'RGI60-15.02240',\n",
       "       'RGI60-15.02228', 'RGI60-15.01151', 'RGI60-15.03619',\n",
       "       'RGI60-15.09803', 'RGI60-15.10878', 'RGI60-15.01152',\n",
       "       'RGI60-15.09871', 'RGI60-15.09803', 'RGI60-15.02661', nan,\n",
       "       'RGI60-15.10883', 'RGI60-15.01354', 'RGI60-15.03765',\n",
       "       'RGI60-15.03206', 'RGI60-15.10135', 'RGI60-15.02637',\n",
       "       'RGI60-15.04258', 'RGI60-15.03731', 'RGI60-15.03742',\n",
       "       'RGI60-15.02833', 'RGI60-15.02911', 'RGI60-15.03498',\n",
       "       'RGI60-15.09675', 'RGI60-15.02235', 'RGI60-15.02326',\n",
       "       'RGI60-15.02369', 'RGI60-15.10859', 'RGI60-15.02594',\n",
       "       'RGI60-15.10918', 'RGI60-15.10928', 'RGI60-15.01599',\n",
       "       'RGI60-15.03474', 'RGI60-15.03734', 'RGI60-15.03473',\n",
       "       'RGI60-15.03422', 'RGI60-15.09729', 'RGI60-15.09650',\n",
       "       'RGI60-15.09474', 'RGI60-15.02644', 'RGI60-15.02358',\n",
       "       'RGI60-15.02371', 'RGI60-15.02231', 'RGI60-15.01141',\n",
       "       'RGI60-15.03735', 'RGI60-15.03401', 'RGI60-15.03575',\n",
       "       'RGI60-15.02856', 'RGI60-15.02771', 'RGI60-15.02888',\n",
       "       'RGI60-15.04220', 'RGI60-15.02942', nan, 'RGI60-15.03743',\n",
       "       'RGI60-15.02709', 'RGI60-15.03417', 'RGI60-15.09675',\n",
       "       'RGI60-15.03052', 'RGI60-15.02229', 'RGI60-15.02231',\n",
       "       'RGI60-15.02862', 'RGI60-15.02897', 'RGI60-15.02774',\n",
       "       'RGI60-15.03741', 'RGI60-15.03428', 'RGI60-15.10718',\n",
       "       'RGI60-15.01485', 'RGI60-15.09760', 'RGI60-15.09781',\n",
       "       'RGI60-15.09785', 'RGI60-15.03732', 'RGI60-15.10567',\n",
       "       'RGI60-15.10648', 'RGI60-15.10653', 'RGI60-15.10641',\n",
       "       'RGI60-15.02783', 'RGI60-15.09792', 'RGI60-15.02375',\n",
       "       'RGI60-15.01286', 'RGI60-15.09771', 'RGI60-15.10180',\n",
       "       'RGI60-15.02846', 'RGI60-15.02860', 'RGI60-15.03733',\n",
       "       'RGI60-15.03448', 'RGI60-15.12622', 'RGI60-15.11821',\n",
       "       'RGI60-15.00356', nan, 'RGI60-15.07911', 'RGI60-15.07910',\n",
       "       'RGI60-15.11888', 'RGI60-15.11880', 'RGI60-15.00957',\n",
       "       'RGI60-15.12786', 'RGI60-15.01256', 'RGI60-15.01262',\n",
       "       'RGI60-15.00621', 'RGI60-15.12737', 'RGI60-15.07872',\n",
       "       'RGI60-15.11798', 'RGI60-15.07881', 'RGI60-15.12613',\n",
       "       'RGI60-15.07886', 'RGI60-15.01127', 'RGI60-15.12448',\n",
       "       'RGI60-15.12644', 'RGI60-15.12605', 'RGI60-15.12500',\n",
       "       'RGI60-15.12723', 'RGI60-15.00368', 'RGI60-15.12594',\n",
       "       'RGI60-15.12587', 'RGI60-15.07846', 'RGI60-15.12566',\n",
       "       'RGI60-15.07851', 'RGI60-15.01263', 'RGI60-15.07912',\n",
       "       'RGI60-15.07907', 'RGI60-15.00503', 'RGI60-13.22617',\n",
       "       'RGI60-13.22329', 'RGI60-13.22661', 'RGI60-13.22267',\n",
       "       'RGI60-13.17829', 'RGI60-13.20283', 'RGI60-13.17870',\n",
       "       'RGI60-13.19410', 'RGI60-13.22260', 'RGI60-13.17928',\n",
       "       'RGI60-13.20272', 'RGI60-13.19370', 'RGI60-13.20293',\n",
       "       'RGI60-13.17868', 'RGI60-13.22248', 'RGI60-13.17869',\n",
       "       'RGI60-13.22373', 'RGI60-13.22359', 'RGI60-13.20210',\n",
       "       'RGI60-13.18710', 'RGI60-13.15483', 'RGI60-13.14943',\n",
       "       'RGI60-13.13985', 'RGI60-13.41623', 'RGI60-13.41740',\n",
       "       'RGI60-13.41737', 'RGI60-13.42291', 'RGI60-13.42331',\n",
       "       'RGI60-13.42324', 'RGI60-13.42355', 'RGI60-13.42381',\n",
       "       'RGI60-13.42369', 'RGI60-13.12509', 'RGI60-13.19797',\n",
       "       'RGI60-13.18930', 'RGI60-13.19305', 'RGI60-13.18142',\n",
       "       'RGI60-13.19271', 'RGI60-13.13252', 'RGI60-13.19167',\n",
       "       'RGI60-13.13201', 'RGI60-13.41903', 'RGI60-13.42285',\n",
       "       'RGI60-13.20494', 'RGI60-13.19851', 'RGI60-13.18598',\n",
       "       'RGI60-13.18541', 'RGI60-13.41704', 'RGI60-13.41724',\n",
       "       'RGI60-13.12485', 'RGI60-13.14321', 'RGI60-13.18939',\n",
       "       'RGI60-13.18940', 'RGI60-13.19542', 'RGI60-13.18354',\n",
       "       'RGI60-13.18772', 'RGI60-13.18641', 'RGI60-13.42209',\n",
       "       'RGI60-13.42205', 'RGI60-13.42355', 'RGI60-13.20561',\n",
       "       'RGI60-13.13636', 'RGI60-13.19847', 'RGI60-13.18923',\n",
       "       'RGI60-13.20170', 'RGI60-13.19634', 'RGI60-13.42206',\n",
       "       'RGI60-13.13259', 'RGI60-13.19750', 'RGI60-13.18951',\n",
       "       'RGI60-13.20471', 'RGI60-13.54431', 'RGI60-13.16045',\n",
       "       'RGI60-13.41657', 'RGI60-13.19296', 'RGI60-13.19757',\n",
       "       'RGI60-13.41765', 'RGI60-13.41615', 'RGI60-13.42199', nan,\n",
       "       'RGI60-13.18832', 'RGI60-13.41617', 'RGI60-13.13612',\n",
       "       'RGI60-13.14320', 'RGI60-13.19651', 'RGI60-13.13600', nan,\n",
       "       'RGI60-13.41757', 'RGI60-13.41818', 'RGI60-13.18677',\n",
       "       'RGI60-13.20571', 'RGI60-13.42334', 'RGI60-13.19297',\n",
       "       'RGI60-13.16990', 'RGI60-13.19758', 'RGI60-13.20255',\n",
       "       'RGI60-13.19649', 'RGI60-13.05875', 'RGI60-13.06060',\n",
       "       'RGI60-13.07339', 'RGI60-13.31210', 'RGI60-13.31227',\n",
       "       'RGI60-13.09794', 'RGI60-13.09783', 'RGI60-13.05000',\n",
       "       'RGI60-13.43528', 'RGI60-13.43613', 'RGI60-13.30888',\n",
       "       'RGI60-13.30692', 'RGI60-13.06199', 'RGI60-13.09895',\n",
       "       'RGI60-13.43256', 'RGI60-13.43474', 'RGI60-13.43433',\n",
       "       'RGI60-13.43427', 'RGI60-13.43784', 'RGI60-13.43864',\n",
       "       'RGI60-13.43163', 'RGI60-13.43803', 'RGI60-13.43252',\n",
       "       'RGI60-13.43483', 'RGI60-13.43569', 'RGI60-13.43103',\n",
       "       'RGI60-13.43790', 'RGI60-13.43232', 'RGI60-13.43267',\n",
       "       'RGI60-13.43308', 'RGI60-13.43239', 'RGI60-13.43380',\n",
       "       'RGI60-13.43663', 'RGI60-13.42780', 'RGI60-13.05009',\n",
       "       'RGI60-13.43207', 'RGI60-13.43639', 'RGI60-13.04960',\n",
       "       'RGI60-13.05038', 'RGI60-13.31151', 'RGI60-13.38764',\n",
       "       'RGI60-13.38765', 'RGI60-13.40583', 'RGI60-13.40580',\n",
       "       'RGI60-13.40536', 'RGI60-13.37193', 'RGI60-13.37269',\n",
       "       'RGI60-13.37271', 'RGI60-13.37370', 'RGI60-13.40796',\n",
       "       'RGI60-13.38803', 'RGI60-13.37368', 'RGI60-13.38882',\n",
       "       'RGI60-13.40704', 'RGI60-13.40696', 'RGI60-13.38924',\n",
       "       'RGI60-13.37246', 'RGI60-14.23523', 'RGI60-14.24212',\n",
       "       'RGI60-14.24206', 'RGI60-14.24213', 'RGI60-14.23140',\n",
       "       'RGI60-14.20858', 'RGI60-14.23441', 'RGI60-14.23656',\n",
       "       'RGI60-14.23645', 'RGI60-14.22225', 'RGI60-14.22208',\n",
       "       'RGI60-14.22185', 'RGI60-14.22276', 'RGI60-14.22703',\n",
       "       'RGI60-14.23757', 'RGI60-14.24214', 'RGI60-14.23787',\n",
       "       'RGI60-14.22472', 'RGI60-14.22493', 'RGI60-14.22422',\n",
       "       'RGI60-14.22569', 'RGI60-14.22512', 'RGI60-14.23259',\n",
       "       'RGI60-14.23679', 'RGI60-14.23618', 'RGI60-14.23586',\n",
       "       'RGI60-14.23677', 'RGI60-14.23872', 'RGI60-14.22515',\n",
       "       'RGI60-14.24140', 'RGI60-14.23368', 'RGI60-14.23992',\n",
       "       'RGI60-14.22707', 'RGI60-14.23870', 'RGI60-14.03007',\n",
       "       'RGI60-14.02701', 'RGI60-14.02221', 'RGI60-14.02806',\n",
       "       'RGI60-14.02963', 'RGI60-14.01807', 'RGI60-14.01922',\n",
       "       'RGI60-14.02454', 'RGI60-14.02024', 'RGI60-14.01017',\n",
       "       'RGI60-14.04570', 'RGI60-14.04533', 'RGI60-14.04628',\n",
       "       'RGI60-14.07253', 'RGI60-14.02690', 'RGI60-14.08100',\n",
       "       'RGI60-14.08088', 'RGI60-14.08160', 'RGI60-14.08380',\n",
       "       'RGI60-14.03092', 'RGI60-14.03439', 'RGI60-14.01670',\n",
       "       'RGI60-14.00032', 'RGI60-14.04807', 'RGI60-14.06794',\n",
       "       'RGI60-14.05916', 'RGI60-14.10015', 'RGI60-14.07309',\n",
       "       'RGI60-14.05913', 'RGI60-14.08184', 'RGI60-14.06487',\n",
       "       'RGI60-14.06580', 'RGI60-14.04411', 'RGI60-14.04291',\n",
       "       'RGI60-14.03869', 'RGI60-14.03405', 'RGI60-14.03061',\n",
       "       'RGI60-14.01391', 'RGI60-14.03263', 'RGI60-14.03055',\n",
       "       'RGI60-14.04040', 'RGI60-14.08075', 'RGI60-14.08228',\n",
       "       'RGI60-14.08531', 'RGI60-14.02357', 'RGI60-14.02150',\n",
       "       'RGI60-14.04638', 'RGI60-14.04869', 'RGI60-14.07195',\n",
       "       'RGI60-14.07136', 'RGI60-14.04668', 'RGI60-14.06675',\n",
       "       'RGI60-14.08107', 'RGI60-14.04593', 'RGI60-14.04404',\n",
       "       'RGI60-14.04531', 'RGI60-14.03250', 'RGI60-14.01998',\n",
       "       'RGI60-14.01893', 'RGI60-14.02674', 'RGI60-14.04884',\n",
       "       'RGI60-14.04945', 'RGI60-14.04828', 'RGI60-14.08300',\n",
       "       'RGI60-14.08081', 'RGI60-14.08083', 'RGI60-14.07585',\n",
       "       'RGI60-14.00005', 'RGI60-14.02482', 'RGI60-14.02849',\n",
       "       'RGI60-14.07239', 'RGI60-14.05568', 'RGI60-14.02568',\n",
       "       'RGI60-14.04498', 'RGI60-14.03694', 'RGI60-14.03017',\n",
       "       'RGI60-14.05446', 'RGI60-14.04701', 'RGI60-14.07342',\n",
       "       'RGI60-14.07422', 'RGI60-14.02010', 'RGI60-14.02653',\n",
       "       'RGI60-14.04585', 'RGI60-14.04622', 'RGI60-14.08610',\n",
       "       'RGI60-14.07756', 'RGI60-14.04777', 'RGI60-14.04590',\n",
       "       'RGI60-14.04587', 'RGI60-14.00036', 'RGI60-14.07500',\n",
       "       'RGI60-14.07385', 'RGI60-14.08520', 'RGI60-14.05872',\n",
       "       'RGI60-14.02882', 'RGI60-14.02183', 'RGI60-14.02765',\n",
       "       'RGI60-14.02343', 'RGI60-14.08505', 'RGI60-14.05480',\n",
       "       'RGI60-14.02192', 'RGI60-14.03658', 'RGI60-14.09952',\n",
       "       'RGI60-14.04477', 'RGI60-14.03837', 'RGI60-14.19746',\n",
       "       'RGI60-14.19054', 'RGI60-14.20144', 'RGI60-14.16318',\n",
       "       'RGI60-14.18520', 'RGI60-14.17286', 'RGI60-14.17471',\n",
       "       'RGI60-14.18462', 'RGI60-14.16093', 'RGI60-14.18513',\n",
       "       'RGI60-14.19342', 'RGI60-14.18949', 'RGI60-14.18750',\n",
       "       'RGI60-14.18970', 'RGI60-14.16466', 'RGI60-14.19877',\n",
       "       'RGI60-14.19344', 'RGI60-14.20143', 'RGI60-14.17251',\n",
       "       'RGI60-14.17550', 'RGI60-14.17305', 'RGI60-14.15011',\n",
       "       'RGI60-14.15099', 'RGI60-14.16395', 'RGI60-14.20157',\n",
       "       'RGI60-14.18940', 'RGI60-14.17284', 'RGI60-14.17999',\n",
       "       'RGI60-14.17249', 'RGI60-14.18964', 'RGI60-14.19878',\n",
       "       'RGI60-14.19416', 'RGI60-14.17302', 'RGI60-14.18483',\n",
       "       'RGI60-14.20030', 'RGI60-14.14820', 'RGI60-14.17250',\n",
       "       'RGI60-14.20026', 'RGI60-14.17248', 'RGI60-14.18195',\n",
       "       'RGI60-14.20029', 'RGI60-14.20162', 'RGI60-14.20213',\n",
       "       'RGI60-14.19394', 'RGI60-14.17289', 'RGI60-14.18977',\n",
       "       'RGI60-14.19728', 'RGI60-14.17266', 'RGI60-14.17273',\n",
       "       'RGI60-14.20212', 'RGI60-14.17290', 'RGI60-14.17285',\n",
       "       'RGI60-14.17287', 'RGI60-14.18918', 'RGI60-14.20145',\n",
       "       'RGI60-14.21310', 'RGI60-14.17296', 'RGI60-14.14970',\n",
       "       'RGI60-14.14986', 'RGI60-14.17683', 'RGI60-14.17281',\n",
       "       'RGI60-14.17256', 'RGI60-14.16091', 'RGI60-14.17161',\n",
       "       'RGI60-14.17800', 'RGI60-14.17814', 'RGI60-14.20154',\n",
       "       'RGI60-14.17279', 'RGI60-14.18446', 'RGI60-14.18981'], dtype=object)"
      ]
     },
     "execution_count": 46,
     "metadata": {},
     "output_type": "execute_result"
    }
   ],
   "source": [
    "names_6"
   ]
  },
  {
   "cell_type": "code",
   "execution_count": 74,
   "id": "caeb5743-e8c8-4f77-914c-53ddbbccaf65",
   "metadata": {
    "tags": []
   },
   "outputs": [],
   "source": [
    "# use the link files to see what our glaciers used to be called\n",
    "old_names = []\n",
    "\n",
    "for idx,row in dc_gdf.iterrows():\n",
    "    id7 = row['rgi_id']\n",
    "    df_6 = link_all[link_all['rgi7_id']==id7]\n",
    "    \n",
    "    if len(df_6[\"overlap_area_km2\"])<2:\n",
    "        for i in df_6[\"rgi6_id\"]:\n",
    "            old_names.append(i)\n",
    "    else:\n",
    "        subset = df_6[df_6[\"overlap_area_km2\"]>0.15]\n",
    "        for i in subset[\"rgi6_id\"]:\n",
    "            old_names.append(i)\n",
    "        "
   ]
  },
  {
   "cell_type": "code",
   "execution_count": 76,
   "id": "ad1024fd-884c-437a-89ba-99a77995bb5c",
   "metadata": {
    "tags": []
   },
   "outputs": [
    {
     "name": "stdout",
     "output_type": "stream",
     "text": [
      "RGI60-15.00621\n"
     ]
    },
    {
     "data": {
      "text/plain": [
       "1579"
      ]
     },
     "execution_count": 76,
     "metadata": {},
     "output_type": "execute_result"
    }
   ],
   "source": [
    "print(old_names[0])\n",
    "len(old_names)"
   ]
  },
  {
   "cell_type": "code",
   "execution_count": 79,
   "id": "12230819-5e3b-4f83-8b54-17db14b93bed",
   "metadata": {
    "tags": []
   },
   "outputs": [],
   "source": [
    "format_names = [ f\"HMA_DTE_{i[-8:]}\" for i in old_names ]"
   ]
  },
  {
   "cell_type": "code",
   "execution_count": 80,
   "id": "ea4badea-e338-47f4-93f0-ab93eb3959a9",
   "metadata": {
    "tags": []
   },
   "outputs": [
    {
     "data": {
      "text/plain": [
       "'HMA_DTE_15.00621'"
      ]
     },
     "execution_count": 80,
     "metadata": {},
     "output_type": "execute_result"
    }
   ],
   "source": [
    "format_names[0]"
   ]
  },
  {
   "cell_type": "code",
   "execution_count": 84,
   "id": "351362b9-6658-4393-afbb-5a0d3883dcc0",
   "metadata": {
    "tags": []
   },
   "outputs": [],
   "source": [
    "test = \"\"\n",
    "for i in format_names:\n",
    "    test = test+\",\"+i\n",
    "test = test[1:]"
   ]
  },
  {
   "cell_type": "code",
   "execution_count": 87,
   "id": "fed64124-1122-43e6-8ad0-0658c3d86df9",
   "metadata": {
    "tags": []
   },
   "outputs": [
    {
     "data": {
      "text/plain": [
       "26842"
      ]
     },
     "execution_count": 87,
     "metadata": {},
     "output_type": "execute_result"
    }
   ],
   "source": [
    "len(test)"
   ]
  },
  {
   "cell_type": "code",
   "execution_count": 94,
   "id": "efbfed44-e098-4737-b0e4-2e3939adf976",
   "metadata": {
    "tags": []
   },
   "outputs": [
    {
     "data": {
      "text/plain": [
       "15.789411764705882"
      ]
     },
     "execution_count": 94,
     "metadata": {},
     "output_type": "execute_result"
    }
   ],
   "source": [
    "len(test)/1700"
   ]
  },
  {
   "cell_type": "code",
   "execution_count": 102,
   "id": "c181fe1f-934d-4549-8928-3425b5f08989",
   "metadata": {
    "tags": []
   },
   "outputs": [],
   "source": [
    "test1 = test[:17*500]\n",
    "test2 = test[17*500: 17*1000]\n",
    "test3 = test[17*1000: 17*1500]\n",
    "test4 = test[17*1500:]"
   ]
  },
  {
   "cell_type": "code",
   "execution_count": 96,
   "id": "528f92a2-77ad-40e7-b5ac-ccde6565ee34",
   "metadata": {
    "tags": []
   },
   "outputs": [
    {
     "data": {
      "text/plain": [
       "'HMA_DTE_15.00621,HMA_DTE_13.01148,HMA_DTE_13.01432,HMA_DTE_13.01316,HMA_DTE_13.02655,HMA_DTE_13.01955,HMA_DTE_13.01866,HMA_DTE_13.01956,HMA_DTE_13.01954,HMA_DTE_13.01863,HMA_DTE_13.00788,HMA_DTE_13.01228,HMA_DTE_13.00794,HMA_DTE_13.01231,HMA_DTE_13.01184,HMA_DTE_13.01394,HMA_DTE_13.01392,HMA_DTE_13.03872,HMA_DTE_13.03871,HMA_DTE_13.03762,HMA_DTE_13.01937,HMA_DTE_13.00906,HMA_DTE_13.01409,HMA_DTE_13.01410,HMA_DTE_13.01411,HMA_DTE_13.01524,HMA_DTE_13.01536,HMA_DTE_13.01392,HMA_DTE_13.00956,HMA_DTE_13.00955,HMA_DTE_13.01178,HMA_DTE_13.01027,HMA_DTE_13.00940,HMA_DTE_13.01268,HMA_DTE_15.00998,HMA_DTE_13.01130,HMA_DTE_15.01078,HMA_DTE_13.00982,HMA_DTE_13.00978,HMA_DTE_13.02647,HMA_DTE_13.01969,HMA_DTE_13.01980,HMA_DTE_13.01044,HMA_DTE_13.00885,HMA_DTE_13.01333,HMA_DTE_13.03308,HMA_DTE_13.01176,HMA_DTE_13.02176,HMA_DTE_13.01805,HMA_DTE_13.01926,HMA_DTE_13.01181,HMA_DTE_13.01228,HMA_DTE_13.01023,HMA_DTE_13.00761,HMA_DTE_13.03307,HMA_DTE_13.01456,HMA_DTE_13.01381,HMA_DTE_13.01384,HMA_DTE_13.01388,HMA_DTE_13.01391,HMA_DTE_13.01390,HMA_DTE_13.01389,HMA_DTE_13.01536,HMA_DTE_15.01141,HMA_DTE_13.01436,HMA_DTE_13.01428,HMA_DTE_13.01416,HMA_DTE_13.01430,HMA_DTE_13.03755,HMA_DTE_13.02643,HMA_DTE_13.01180,HMA_DTE_13.01326,HMA_DTE_13.01500,HMA_DTE_13.01417,HMA_DTE_13.01430,HMA_DTE_13.01129,HMA_DTE_13.02643,HMA_DTE_14.18517,HMA_DTE_14.15894,HMA_DTE_14.15895,HMA_DTE_14.15966,HMA_DTE_14.15934,HMA_DTE_14.15869,HMA_DTE_14.15623,HMA_DTE_14.15536,HMA_DTE_14.11724,HMA_DTE_14.12374,HMA_DTE_14.12365,HMA_DTE_14.12349,HMA_DTE_14.11584,HMA_DTE_14.11815,HMA_DTE_14.11859,HMA_DTE_14.14909,HMA_DTE_14.14912,HMA_DTE_14.14910,HMA_DTE_14.12202,HMA_DTE_14.14954,HMA_DTE_14.14952,HMA_DTE_14.14944,HMA_DTE_14.11844,HMA_DTE_14.11851,HMA_DTE_14.15340,HMA_DTE_14.11771,HMA_DTE_14.15447,HMA_DTE_14.15933,HMA_DTE_14.15864,HMA_DTE_14.16042,HMA_DTE_14.12401,HMA_DTE_14.12546,HMA_DTE_14.11591,HMA_DTE_14.15308,HMA_DTE_14.15896,HMA_DTE_14.15988,HMA_DTE_14.12355,HMA_DTE_14.15989,HMA_DTE_14.15302,HMA_DTE_14.16005,HMA_DTE_14.14913,HMA_DTE_14.15968,HMA_DTE_14.15900,HMA_DTE_14.15856,HMA_DTE_14.16030,HMA_DTE_14.15936,HMA_DTE_14.16016,HMA_DTE_14.15624,HMA_DTE_14.16065,HMA_DTE_14.16068,HMA_DTE_14.11848,HMA_DTE_14.15952,HMA_DTE_14.15491,HMA_DTE_14.15421,HMA_DTE_14.12187,HMA_DTE_14.12361,HMA_DTE_14.12323,HMA_DTE_14.15169,HMA_DTE_14.14905,HMA_DTE_14.11573,HMA_DTE_15.07376,HMA_DTE_15.06916,HMA_DTE_15.06917,HMA_DTE_15.06884,HMA_DTE_15.08759,HMA_DTE_15.06722,HMA_DTE_15.06727,HMA_DTE_15.07035,HMA_DTE_15.06724,HMA_DTE_15.07036,HMA_DTE_15.06701,HMA_DTE_15.06776,HMA_DTE_15.06777,HMA_DTE_15.08875,HMA_DTE_15.08877,HMA_DTE_15.08880,HMA_DTE_15.08879,HMA_DTE_15.06385,HMA_DTE_15.06358,HMA_DTE_15.05933,HMA_DTE_15.05968,HMA_DTE_15.05967,HMA_DTE_15.05786,HMA_DTE_15.06515,HMA_DTE_15.05945,HMA_DTE_15.08967,HMA_DTE_15.08966,HMA_DTE_15.05623,HMA_DTE_15.05583,HMA_DTE_15.05576,HMA_DTE_15.05727,HMA_DTE_15.04858,HMA_DTE_15.04653,HMA_DTE_15.05132,HMA_DTE_15.04347,HMA_DTE_15.03973,HMA_DTE_15.09249,HMA_DTE_15.09194,HMA_DTE_15.06915,HMA_DTE_15.07114,HMA_DTE_15.06622,HMA_DTE_15.06935,HMA_DTE_15.06881,HMA_DTE_15.06934,HMA_DTE_15.07123,HMA_DTE_15.08775,HMA_DTE_15.08766,HMA_DTE_15.06607,HMA_DTE_15.06563,HMA_DTE_15.06766,HMA_DTE_15.07034,HMA_DTE_15.07245,HMA_DTE_15.05790,HMA_DTE_15.06472,HMA_DTE_15.05606,HMA_DTE_15.05756,HMA_DTE_15.05152,HMA_DTE_15.04857,HMA_DTE_15.04830,HMA_DTE_15.05028,HMA_DTE_15.05029,HMA_DTE_15.04860,HMA_DTE_15.04863,HMA_DTE_15.05027,HMA_DTE_15.04833,HMA_DTE_15.05116,HMA_DTE_15.05115,HMA_DTE_15.05038,HMA_DTE_15.04865,HMA_DTE_15.04789,HMA_DTE_15.04766,HMA_DTE_15.04763,HMA_DTE_15.04631,HMA_DTE_15.04629,HMA_DTE_15.04628,HMA_DTE_15.04630,HMA_DTE_13.26642,HMA_DTE_15.04715,HMA_DTE_15.04714,HMA_DTE_15.07501,HMA_DTE_15.06813,HMA_DTE_15.06556,HMA_DTE_15.07151,HMA_DTE_15.07164,HMA_DTE_15.07124,HMA_DTE_15.07008,HMA_DTE_15.06562,HMA_DTE_15.06686,HMA_DTE_15.06383,HMA_DTE_15.05879,HMA_DTE_15.06314,HMA_DTE_15.06038,HMA_DTE_15.06347,HMA_DTE_15.06366,HMA_DTE_15.07042,HMA_DTE_15.08968,HMA_DTE_15.04603,HMA_DTE_15.05144,HMA_DTE_15.05142,HMA_DTE_15.04474,HMA_DTE_15.04060,HMA_DTE_15.04136,HMA_DTE_15.04056,HMA_DTE_14.11606,HMA_DTE_15.07587,HMA_DTE_15.07586,HMA_DTE_15.07584,HMA_DTE_15.07106,HMA_DTE_15.06977,HMA_DTE_15.07146,HMA_DTE_15.06976,HMA_DTE_15.07149,HMA_DTE_15.07150,HMA_DTE_15.07170,HMA_DTE_15.06966,HMA_DTE_15.06943,HMA_DTE_15.06942,HMA_DTE_15.07122,HMA_DTE_15.06881,HMA_DTE_15.06873,HMA_DTE_15.06640,HMA_DTE_15.06558,HMA_DTE_15.06871,HMA_DTE_15.07158,HMA_DTE_15.04148,HMA_DTE_15.04149,HMA_DTE_15.04031,HMA_DTE_15.04032,HMA_DTE_15.04100,HMA_DTE_15.04071,HMA_DTE_15.09255,HMA_DTE_15.07257,HMA_DTE_15.07254,HMA_DTE_15.06723,HMA_DTE_15.06194,HMA_DTE_15.06205,HMA_DTE_15.05989,HMA_DTE_15.05587,HMA_DTE_15.04441,HMA_DTE_15.04601,HMA_DTE_15.03996,HMA_DTE_15.04151,HMA_DTE_15.10273,HMA_DTE_15.06559,HMA_DTE_15.07000,HMA_DTE_15.06720,HMA_DTE_15.04438,HMA_DTE_15.05126,HMA_DTE_15.04600,HMA_DTE_15.04151,HMA_DTE_15.04149,HMA_DTE_15.04070,HMA_DTE_15.04099,HMA_DTE_15.09020,HMA_DTE_15.04832,HMA_DTE_15.04831,HMA_DTE_15.05153,HMA_DTE_15.06594,HMA_DTE_15.06595,HMA_DTE_15.04480,HMA_DTE_15.04539,HMA_DTE_15.04540,HMA_DTE_15.09255,HMA_DTE_15.04045,HMA_DTE_15.04006,HMA_DTE_15.04092,HMA_DTE_15.04046,HMA_DTE_15.07153,HMA_DTE_15.06598,HMA_DTE_15.06597,HMA_DTE_15.06596,HMA_DTE_15.07034,HMA_DTE_15.04785,HMA_DTE_15.04784,HMA_DTE_15.04789,HMA_DTE_15.06981,HMA_DTE_15.06763,HMA_DTE_15.06674,HMA_DTE_15.11019,HMA_DTE_15.04614,HMA_DTE_13.26588,HMA_DTE_15.09361,HMA_DTE_15.09354,HMA_DTE_15.09331,HMA_DTE_15.04717,HMA_DTE_15.04719,HMA_DTE_15.04541,HMA_DTE_15.09106,HMA_DTE_15.07142,HMA_DTE_15.06606,HMA_DTE_15.07116,HMA_DTE_15.07143,HMA_DTE_15.06941,HMA_DTE_15.06623,HMA_DTE_15.06828,HMA_DTE_15.06965,HMA_DTE_15.06984,HMA_DTE_15.07148,HMA_DTE_15.05966,HMA_DTE_15.05899,HMA_DTE_15.05353,HMA_DTE_15.05226,HMA_DTE_15.04428,HMA_DTE_15.04609,HMA_DTE_15.04119,HMA_DTE_15.09457,HMA_DTE_15.06666,HMA_DTE_15.06672,HMA_DTE_15.07036,HMA_DTE_15.04438,HMA_DTE_15.04833,HMA_DTE_15.09426,HMA_DTE_15.09408,HMA_DTE_15.04094,HMA_DTE_15.04095,HMA_DTE_15.04121,HMA_DTE_15.04124,HMA_DTE_15.09474,HMA_DTE_15.04120,HMA_DTE_15.04122,HMA_DTE_15.04123,HMA_DTE_15.05139,HMA_DTE_15.05140,HMA_DTE_15.04342,HMA_DTE_15.04341,HMA_DTE_15.05141,HMA_DTE_15.07072,HMA_DTE_15.06961,HMA_DTE_15.06618,HMA_DTE_15.06979,HMA_DTE_15.06338,HMA_DTE_15.06345,HMA_DTE_15.05964,HMA_DTE_15.06053,HMA_DTE_15.06054,HMA_DTE_15.05196,HMA_DTE_13.26929,HMA_DTE_15.05210,HMA_DTE_15.04759,HMA_DTE_15.04758,HMA_DTE_15.04756,HMA_DTE_15.04753,HMA_DTE_15.04752,HMA_DTE_15.04719,HMA_DTE_15.04715,HMA_DTE_15.04023,HMA_DTE_15.09377,HMA_DTE_15.09380,HMA_DTE_15.07375,HMA_DTE_15.07439,HMA_DTE_15.07374,HMA_DTE_15.06574,HMA_DTE_15.06519,HMA_DTE_15.05925,HMA_DTE_15.09426,HMA_DTE_15.04293,HMA_DTE_15.04216,HMA_DTE_15.04176,HMA_DTE_15.04121,HMA_DTE_15.09451,HMA_DTE_15.09459,HMA_DTE_15.10299,HMA_DTE_15.06557,HMA_DTE_15.07073,HMA_DTE_15.06741,HMA_DTE_15.06742,HMA_DTE_15.06561,HMA_DTE_15.06546,HMA_DTE_15.06357,HMA_DTE_15.05927,HMA_DTE_15.05926,HMA_DTE_15.05930,HMA_DTE_15.05931,HMA_DTE_15.05997,HMA_DTE_15.05998,HMA_DTE_15.05932,HMA_DTE_13.26929,HMA_DTE_15.05194,HMA_DTE_15.05211,HMA_DTE_15.11019,HMA_DTE_15.09338,HMA_DTE_15.04018,HMA_DTE_15.09443,HMA_DTE_15.09457,HMA_DTE_15.06804,HMA_DTE_15.07075,HMA_DTE_15.07076,HMA_DTE_15.06826,HMA_DTE_15.06985,HMA_DTE_15.06976,HMA_DTE_14.26942,HMA_DTE_15.06882,HMA_DTE_15.07135,HMA_DTE_15.07141,HMA_DTE_15.07160,HMA_DTE_15.07132,HMA_DTE_15.07025,HMA_DTE_15.07024,HMA_DTE_15.06715,HMA_DTE_15.06564,HMA_DTE_15.09491,HMA_DTE_15.03403,HMA_DTE_15.09870,HMA_DTE_15.09858,HMA_DTE_15.09868,HMA_DTE_15.09803,HMA_DTE_15.09839,HMA_DTE_15.10342,HMA_DTE_15.02791,HMA_DTE_15.02789,HMA_DTE_15.09481,HMA_DTE_15.01509,HMA_DTE_15.01566,HMA_DTE_15.01553,HMA_DTE_15.01305,HMA_DTE_15.03422,HMA_DTE_15.10147,HMA_DTE_15.09991,HMA_DTE_15.09965,HMA_DTE_15.03366,HMA_DTE_15.10031,HMA_DTE_15.10007,HMA_DTE_15.10006,HMA_DTE_15.09991,HMA_DTE_15.09973,HMA_DTE_15.09982,HMA_DTE_15.09492,HMA_DTE_15.03435,HMA_DTE_15.03588,HMA_DTE_15.03945,HMA_DTE_15.03948,HMA_DTE_15.10209,HMA_DTE_15.09474,HMA_DTE_15.09475,HMA_DTE_15.10689,HMA_DTE_15.01650,HMA_DTE_15.01655,HMA_DTE_15.01653,HMA_DTE_15.02077,HMA_DTE_15.01502,HMA_DTE_15.09921,HMA_DTE_15.09918,HMA_DTE_15.09877,HMA_DTE_15.09870,HMA_DTE_15.02828,HMA_DTE_15.02826,HMA_DTE_15.02829,HMA_DTE_15.02830,HMA_DTE_15.02703,HMA_DTE_15.03009,HMA_DTE_15.02819,HMA_DTE_15.02804,HMA_DTE_15.02805,HMA_DTE_15.02827,HMA_DTE_15.02704,HMA_DTE_15.03150,HMA_DTE_15.02854,HMA_DTE_15.02866,HMA_DTE_15.02910,HMA_DTE_15.09500,HMA_DTE_15.09465,HMA_DTE_15.09464,HMA_DTE_15.09467,'"
      ]
     },
     "execution_count": 96,
     "metadata": {},
     "output_type": "execute_result"
    }
   ],
   "source": [
    "test1"
   ]
  },
  {
   "cell_type": "code",
   "execution_count": 98,
   "id": "0aebc6d9-0378-4c2c-9054-4fa3c38018ea",
   "metadata": {
    "tags": []
   },
   "outputs": [
    {
     "data": {
      "text/plain": [
       "'HMA_DTE_15.09862,HMA_DTE_15.02867,HMA_DTE_15.03744,HMA_DTE_15.03201,HMA_DTE_15.10697,HMA_DTE_15.02240,HMA_DTE_15.02228,HMA_DTE_15.01151,HMA_DTE_15.03619,HMA_DTE_15.09803,HMA_DTE_15.09803,HMA_DTE_15.10866,HMA_DTE_15.10878,HMA_DTE_15.10860,HMA_DTE_15.01140,HMA_DTE_15.01191,HMA_DTE_15.01152,HMA_DTE_13.01430,HMA_DTE_15.09871,HMA_DTE_15.09803,HMA_DTE_15.02661,HMA_DTE_15.10968,HMA_DTE_13.26440,HMA_DTE_15.10883,HMA_DTE_15.01353,HMA_DTE_15.01354,HMA_DTE_15.01355,HMA_DTE_15.03765,HMA_DTE_15.03243,HMA_DTE_15.03206,HMA_DTE_15.09729,HMA_DTE_15.10135,HMA_DTE_15.10209,HMA_DTE_15.10232,HMA_DTE_15.02637,HMA_DTE_15.10814,HMA_DTE_15.04258,HMA_DTE_15.03731,HMA_DTE_15.03742,HMA_DTE_15.03889,HMA_DTE_15.03890,HMA_DTE_15.02833,HMA_DTE_15.02911,HMA_DTE_15.03518,HMA_DTE_15.03498,HMA_DTE_15.03524,HMA_DTE_15.03523,HMA_DTE_15.03522,HMA_DTE_15.09675,HMA_DTE_15.02235,HMA_DTE_15.02664,HMA_DTE_15.02326,HMA_DTE_15.02324,HMA_DTE_15.02325,HMA_DTE_15.02369,HMA_DTE_15.02696,HMA_DTE_15.10859,HMA_DTE_15.10866,HMA_DTE_15.02594,HMA_DTE_15.10918,HMA_DTE_15.10921,HMA_DTE_15.10928,HMA_DTE_15.10936,HMA_DTE_15.10933,HMA_DTE_15.01599,HMA_DTE_15.01593,HMA_DTE_15.03474,HMA_DTE_15.03734,HMA_DTE_15.03419,HMA_DTE_15.03473,HMA_DTE_15.03474,HMA_DTE_15.09991,HMA_DTE_15.03475,HMA_DTE_15.10180,HMA_DTE_15.03422,HMA_DTE_15.09792,HMA_DTE_15.03852,HMA_DTE_15.03420,HMA_DTE_15.10147,HMA_DTE_15.09729,HMA_DTE_15.09730,HMA_DTE_15.10232,HMA_DTE_15.09645,HMA_DTE_15.09650,HMA_DTE_15.09474,HMA_DTE_15.02644,HMA_DTE_15.02358,HMA_DTE_15.02641,HMA_DTE_15.02642,HMA_DTE_15.02643,HMA_DTE_13.26437,HMA_DTE_13.26415,HMA_DTE_15.02371,HMA_DTE_13.26239,HMA_DTE_15.02231,HMA_DTE_15.02507,HMA_DTE_15.01141,HMA_DTE_15.01191,HMA_DTE_15.03735,HMA_DTE_15.03894,HMA_DTE_15.03366,HMA_DTE_15.03510,HMA_DTE_15.03401,HMA_DTE_15.03575,HMA_DTE_15.02856,HMA_DTE_15.02769,HMA_DTE_15.02770,HMA_DTE_15.02771,HMA_DTE_15.03149,HMA_DTE_15.02888,HMA_DTE_15.02885,HMA_DTE_15.04220,HMA_DTE_15.04251,HMA_DTE_15.02942,HMA_DTE_15.02945,HMA_DTE_15.02949,HMA_DTE_15.10965,HMA_DTE_15.03743,HMA_DTE_15.09803,HMA_DTE_15.02731,HMA_DTE_15.02840,HMA_DTE_15.02839,HMA_DTE_15.02710,HMA_DTE_15.02841,HMA_DTE_15.02838,HMA_DTE_15.02842,HMA_DTE_15.02837,HMA_DTE_15.02836,HMA_DTE_15.02843,HMA_DTE_15.02709,HMA_DTE_15.02844,HMA_DTE_15.02845,HMA_DTE_15.03149,HMA_DTE_15.02760,HMA_DTE_15.03417,HMA_DTE_15.09991,HMA_DTE_15.09729,HMA_DTE_15.09687,HMA_DTE_15.09675,HMA_DTE_15.10222,HMA_DTE_15.03052,HMA_DTE_15.02229,HMA_DTE_13.26437,HMA_DTE_13.26237,HMA_DTE_13.26239,HMA_DTE_13.26439,HMA_DTE_15.02231,HMA_DTE_15.02862,HMA_DTE_15.03208,HMA_DTE_15.03103,HMA_DTE_15.02902,HMA_DTE_15.02901,HMA_DTE_15.02900,HMA_DTE_15.02897,HMA_DTE_15.02899,HMA_DTE_15.02895,HMA_DTE_15.02774,HMA_DTE_15.03741,HMA_DTE_15.03448,HMA_DTE_15.03432,HMA_DTE_15.03430,HMA_DTE_15.03428,HMA_DTE_15.03427,HMA_DTE_15.03426,HMA_DTE_15.10755,HMA_DTE_15.10718,HMA_DTE_15.10720,HMA_DTE_13.26239,HMA_DTE_15.01591,HMA_DTE_15.01589,HMA_DTE_15.01485,HMA_DTE_15.01547,HMA_DTE_15.09760,HMA_DTE_15.09781,HMA_DTE_15.09785,HMA_DTE_15.03732,HMA_DTE_15.10567,HMA_DTE_15.10644,HMA_DTE_15.10648,HMA_DTE_15.10653,HMA_DTE_15.10641,HMA_DTE_15.02778,HMA_DTE_15.02783,HMA_DTE_15.09792,HMA_DTE_15.02375,HMA_DTE_15.01286,HMA_DTE_15.09771,HMA_DTE_15.10180,HMA_DTE_15.10190,HMA_DTE_15.02800,HMA_DTE_15.02803,HMA_DTE_15.02848,HMA_DTE_15.02792,HMA_DTE_15.02791,HMA_DTE_15.02795,HMA_DTE_15.02802,HMA_DTE_15.02801,HMA_DTE_15.02846,HMA_DTE_15.02850,HMA_DTE_15.02853,HMA_DTE_15.02860,HMA_DTE_15.02849,HMA_DTE_15.02858,HMA_DTE_15.02857,HMA_DTE_15.02909,HMA_DTE_15.02699,HMA_DTE_15.03733,HMA_DTE_15.09991,HMA_DTE_15.03535,HMA_DTE_15.03534,HMA_DTE_15.03448,HMA_DTE_15.12622,HMA_DTE_15.11957,HMA_DTE_15.11821,HMA_DTE_15.00356,HMA_DTE_15.08051,HMA_DTE_15.08049,HMA_DTE_15.07911,HMA_DTE_15.07910,HMA_DTE_15.11909,HMA_DTE_15.12500,HMA_DTE_15.11888,HMA_DTE_15.12470,HMA_DTE_15.11882,HMA_DTE_15.11880,HMA_DTE_15.11888,HMA_DTE_15.11879,HMA_DTE_15.00957,HMA_DTE_15.12786,HMA_DTE_15.01256,HMA_DTE_15.01249,HMA_DTE_15.01250,HMA_DTE_15.01248,HMA_DTE_15.01262,HMA_DTE_13.01156,HMA_DTE_15.00621,HMA_DTE_15.01032,HMA_DTE_15.12737,HMA_DTE_15.07872,HMA_DTE_15.07868,HMA_DTE_15.07869,HMA_DTE_15.07870,HMA_DTE_15.11798,HMA_DTE_15.07881,HMA_DTE_15.12613,HMA_DTE_15.12585,HMA_DTE_15.11926,HMA_DTE_15.12566,HMA_DTE_15.11909,HMA_DTE_15.07889,HMA_DTE_15.07886,HMA_DTE_15.07893,HMA_DTE_15.01127,HMA_DTE_15.12448,HMA_DTE_15.12644,HMA_DTE_15.11975,HMA_DTE_15.11973,HMA_DTE_15.12613,HMA_DTE_15.12605,HMA_DTE_15.11926,HMA_DTE_15.12500,HMA_DTE_15.11880,HMA_DTE_15.12723,HMA_DTE_15.12737,HMA_DTE_15.00368,HMA_DTE_15.12605,HMA_DTE_15.12603,HMA_DTE_15.12594,HMA_DTE_15.12586,HMA_DTE_15.12582,HMA_DTE_15.12587,HMA_DTE_15.11926,HMA_DTE_15.12587,HMA_DTE_15.11926,HMA_DTE_15.07846,HMA_DTE_15.07849,HMA_DTE_15.07847,HMA_DTE_15.07845,HMA_DTE_15.12566,HMA_DTE_15.11909,HMA_DTE_15.07842,HMA_DTE_15.07851,HMA_DTE_15.07886,HMA_DTE_15.07846,HMA_DTE_15.01263,HMA_DTE_15.07912,HMA_DTE_15.07881,HMA_DTE_15.07907,HMA_DTE_15.00503,HMA_DTE_13.22617,HMA_DTE_13.22329,HMA_DTE_13.22661,HMA_DTE_13.22267,HMA_DTE_13.17829,HMA_DTE_13.20283,HMA_DTE_13.17870,HMA_DTE_13.19410,HMA_DTE_13.22260,HMA_DTE_13.17928,HMA_DTE_13.20272,HMA_DTE_13.19370,HMA_DTE_13.20293,HMA_DTE_13.17868,HMA_DTE_13.22248,HMA_DTE_13.17869,HMA_DTE_13.22373,HMA_DTE_13.22359,HMA_DTE_13.20210,HMA_DTE_13.18710,HMA_DTE_13.15483,HMA_DTE_13.14943,HMA_DTE_13.13985,HMA_DTE_13.41623,HMA_DTE_13.41740,HMA_DTE_13.41737,HMA_DTE_13.41724,HMA_DTE_13.42291,HMA_DTE_13.42331,HMA_DTE_13.42324,HMA_DTE_13.42355,HMA_DTE_13.42381,HMA_DTE_13.42369,HMA_DTE_13.12509,HMA_DTE_13.19797,HMA_DTE_13.18930,HMA_DTE_13.19305,HMA_DTE_13.18142,HMA_DTE_13.19271,HMA_DTE_13.13252,HMA_DTE_13.19167,HMA_DTE_13.13200,HMA_DTE_13.13199,HMA_DTE_13.13201,HMA_DTE_13.41903,HMA_DTE_13.41902,HMA_DTE_13.42285,HMA_DTE_13.20494,HMA_DTE_13.19851,HMA_DTE_13.18598,HMA_DTE_13.18541,HMA_DTE_13.20173,HMA_DTE_13.41707,HMA_DTE_13.41706,HMA_DTE_13.41710,HMA_DTE_13.41704,HMA_DTE_13.41724,HMA_DTE_13.41705,HMA_DTE_13.41709,HMA_DTE_13.12485,HMA_DTE_13.14321,HMA_DTE_13.18939,HMA_DTE_13.18940,HMA_DTE_13.20472,HMA_DTE_13.19542,HMA_DTE_13.18354,HMA_DTE_13.18772,HMA_DTE_13.18641,HMA_DTE_13.42209,HMA_DTE_13.42205,HMA_DTE_13.42355,HMA_DTE_13.20561,HMA_DTE_13.13636,HMA_DTE_13.19847,HMA_DTE_13.18923,HMA_DTE_13.20170,HMA_DTE_13.19634,HMA_DTE_13.42209,HMA_DTE_13.42180,HMA_DTE_13.42206,HMA_DTE_13.42207,HMA_DTE_13.13259,HMA_DTE_13.13005,HMA_DTE_13.19750,HMA_DTE_13.18951,HMA_DTE_13.19548,HMA_DTE_13.20471,HMA_DTE_13.13591,HMA_DTE_13.54431,HMA_DTE_13.16045,HMA_DTE_13.41657,HMA_DTE_13.41653,HMA_DTE_13.41656,HMA_DTE_13.19296,HMA_DTE_13.19757,HMA_DTE_13.41765,HMA_DTE_13.41818,HMA_DTE_13.41615,HMA_DTE_13.41617,HMA_DTE_13.42199,HMA_DTE_13.42196,HMA_DTE_13.42197,HMA_DTE_13.42200,HMA_DTE_13.42524,HMA_DTE_13.18832,HMA_DTE_13.41792,HMA_DTE_13.41617,HMA_DTE_13.41724,HMA_DTE_13.13612,HMA_DTE_13.14320,HMA_DTE_13.19651,HMA_DTE_13.13618,HMA_DTE_13.13600,HMA_DTE_13.18207,HMA_DTE_13.19214,HMA_DTE_13.41757,HMA_DTE_13.41756,HMA_DTE_13.41724,HMA_DTE_13.41808,HMA_DTE_13.41818,HMA_DTE_13.18677,HMA_DTE_13.20571,HMA_DTE_13.42334,HMA_DTE_13.19297,HMA_DTE_13.16990,HMA_DTE_13.19758,HMA_DTE_13.20255,HMA_DTE_13.19649,HMA_DTE_13.05875,HMA_DTE_13.06060,HMA_DTE_13.07339,HMA_DTE_13.31210,HMA_DTE_13.31227,HMA_DTE_13.09794,HMA_DTE_13.09783,HMA_DTE_13.43252,HMA_DTE_13.43207,HMA_DTE_13.04970,HMA_DTE_13.43267,HMA_DTE_13.04979,HMA_DTE_13.04980,HMA_DTE_13.05000,HMA_DTE_13.04993,HMA_DTE_13.43483,HMA_DTE_13.04996,HMA_DTE_13.04995,HMA_DTE_13.04950,HMA_DTE_13.43547,HMA_DTE_13.43534,HMA_DTE_13.43528,HMA_DTE_13.43537,HMA_DTE_13.43535,HMA_DTE_13.43532,HMA_DTE_13.43530,HMA_DTE_13.43663,HMA_DTE_13.43790,HMA_DTE_13.43613,HMA_DTE_13.30888,HMA_DTE_13.31151,HMA_DTE_13.30888,HMA_DTE_13.30692,HMA_DTE_13.30688,HMA_DTE_13.30710,HMA_DTE_13.30654,HMA_DTE_13.06199,HMA_DTE_13.09895,HMA_DTE_13.43256,HMA_DTE_13.43474,HMA_DTE_13.43433,HMA_DTE_13.43434,HMA_DTE_13.43427,HMA_DTE_13.43784,HMA_DTE_13.43864,HMA_DTE_13.43163,HMA_DTE_13.43799,HMA_DTE_13.43803,HMA_DTE_13.43252,HMA_DTE_13.43207,HMA_DTE_13.43308,HMA_DTE_13.43481,HMA_DTE_13.43483,HMA_DTE_13.43528,HMA_DTE_13.43569,HMA_DTE_13.43103,HMA_DTE_13.43790,HMA_DTE_13.43232,HMA_DTE_13.43207,HMA_DTE_13.43267,HMA_DTE_13.43308,HMA_DTE_13.43319,HMA_DTE_13.43483,HMA_DTE_13.43239,HMA_DTE_13.43256,HMA_DTE_13.43380,HMA_DTE_13.43388,HMA_DTE_13.43652,HMA_DTE_13.43663,HMA_DTE_13.43639,HMA_DTE_13.42778,HMA_DTE_13.42775,HMA_DTE_13.42780,HMA_DTE_13.42767,HMA_DTE_13.05009,HMA_DTE_13.05038,HMA_DTE_13.05000,HMA_DTE_13.43232,HMA_DTE_13.43252,HMA_DTE_13.43207,HMA_DTE_13.43634,HMA_DTE_13.43626,HMA_DTE_13.43639,'"
      ]
     },
     "execution_count": 98,
     "metadata": {},
     "output_type": "execute_result"
    }
   ],
   "source": [
    "test2"
   ]
  },
  {
   "cell_type": "code",
   "execution_count": 103,
   "id": "154e2e93-1656-4c03-8093-a02550d7d5b4",
   "metadata": {
    "tags": []
   },
   "outputs": [
    {
     "data": {
      "text/plain": [
       "'HMA_DTE_13.05000,HMA_DTE_13.05019,HMA_DTE_13.05002,HMA_DTE_13.04962,HMA_DTE_13.04960,HMA_DTE_13.04965,HMA_DTE_13.04966,HMA_DTE_13.04967,HMA_DTE_13.04964,HMA_DTE_13.05038,HMA_DTE_13.04992,HMA_DTE_13.43613,HMA_DTE_13.30878,HMA_DTE_13.31120,HMA_DTE_13.31147,HMA_DTE_13.31151,HMA_DTE_13.31145,HMA_DTE_13.31154,HMA_DTE_13.38764,HMA_DTE_13.40583,HMA_DTE_13.40580,HMA_DTE_13.40536,HMA_DTE_13.37193,HMA_DTE_13.37183,HMA_DTE_13.37269,HMA_DTE_13.37271,HMA_DTE_13.37369,HMA_DTE_13.37370,HMA_DTE_13.40170,HMA_DTE_13.40796,HMA_DTE_13.38803,HMA_DTE_13.37368,HMA_DTE_13.38882,HMA_DTE_13.40704,HMA_DTE_13.40709,HMA_DTE_13.40696,HMA_DTE_13.40700,HMA_DTE_13.38924,HMA_DTE_13.37246,HMA_DTE_14.23523,HMA_DTE_14.24212,HMA_DTE_14.24206,HMA_DTE_14.24213,HMA_DTE_14.23140,HMA_DTE_14.20858,HMA_DTE_14.23441,HMA_DTE_14.23656,HMA_DTE_14.23649,HMA_DTE_14.23645,HMA_DTE_14.22225,HMA_DTE_14.22208,HMA_DTE_14.22310,HMA_DTE_14.22185,HMA_DTE_14.22276,HMA_DTE_14.22703,HMA_DTE_14.23757,HMA_DTE_14.24214,HMA_DTE_14.23787,HMA_DTE_14.23776,HMA_DTE_14.23727,HMA_DTE_14.23690,HMA_DTE_14.22472,HMA_DTE_14.23702,HMA_DTE_14.22493,HMA_DTE_14.22422,HMA_DTE_14.22569,HMA_DTE_14.22512,HMA_DTE_14.23259,HMA_DTE_14.23679,HMA_DTE_14.23618,HMA_DTE_14.23646,HMA_DTE_14.23643,HMA_DTE_14.23644,HMA_DTE_14.23639,HMA_DTE_14.23586,HMA_DTE_14.23677,HMA_DTE_14.23872,HMA_DTE_14.22515,HMA_DTE_14.24140,HMA_DTE_14.23368,HMA_DTE_14.23992,HMA_DTE_14.22707,HMA_DTE_14.23791,HMA_DTE_14.23870,HMA_DTE_14.03007,HMA_DTE_14.02701,HMA_DTE_14.02221,HMA_DTE_14.02807,HMA_DTE_14.05574,HMA_DTE_14.02806,HMA_DTE_14.02963,HMA_DTE_14.01807,HMA_DTE_14.01922,HMA_DTE_14.02454,HMA_DTE_14.02342,HMA_DTE_14.02277,HMA_DTE_14.02197,HMA_DTE_14.02024,HMA_DTE_14.05427,HMA_DTE_14.01017,HMA_DTE_14.04570,HMA_DTE_14.04533,HMA_DTE_14.04628,HMA_DTE_14.07253,HMA_DTE_14.02690,HMA_DTE_14.08100,HMA_DTE_14.08088,HMA_DTE_14.08160,HMA_DTE_14.08380,HMA_DTE_14.03092,HMA_DTE_14.03439,HMA_DTE_14.02010,HMA_DTE_14.01670,HMA_DTE_14.01489,HMA_DTE_14.04638,HMA_DTE_14.04622,HMA_DTE_14.00032,HMA_DTE_14.04473,HMA_DTE_14.04945,HMA_DTE_14.04807,HMA_DTE_14.07195,HMA_DTE_14.07239,HMA_DTE_14.10081,HMA_DTE_14.07006,HMA_DTE_14.07005,HMA_DTE_14.06959,HMA_DTE_14.06818,HMA_DTE_14.06675,HMA_DTE_14.06625,HMA_DTE_14.05986,HMA_DTE_14.09952,HMA_DTE_14.10064,HMA_DTE_14.09951,HMA_DTE_14.10073,HMA_DTE_14.10070,HMA_DTE_14.10069,HMA_DTE_14.10074,HMA_DTE_14.06794,HMA_DTE_14.06922,HMA_DTE_14.10089,HMA_DTE_14.10092,HMA_DTE_14.06888,HMA_DTE_14.10550,HMA_DTE_14.10549,HMA_DTE_14.06864,HMA_DTE_14.10101,HMA_DTE_14.06580,HMA_DTE_14.04668,HMA_DTE_14.06487,HMA_DTE_14.09921,HMA_DTE_14.07239,HMA_DTE_14.09920,HMA_DTE_14.05916,HMA_DTE_14.06794,HMA_DTE_14.07309,HMA_DTE_14.10015,HMA_DTE_14.05913,HMA_DTE_14.07410,HMA_DTE_14.07195,HMA_DTE_14.08184,HMA_DTE_14.06794,HMA_DTE_14.06610,HMA_DTE_14.10121,HMA_DTE_14.10120,HMA_DTE_14.06487,HMA_DTE_14.06794,HMA_DTE_14.10110,HMA_DTE_14.06580,HMA_DTE_14.04668,HMA_DTE_14.06487,HMA_DTE_14.04593,HMA_DTE_14.00005,HMA_DTE_14.04668,HMA_DTE_14.05218,HMA_DTE_14.04411,HMA_DTE_14.04291,HMA_DTE_14.00005,HMA_DTE_14.04291,HMA_DTE_14.05300,HMA_DTE_14.05295,HMA_DTE_14.05299,HMA_DTE_14.05297,HMA_DTE_14.05680,HMA_DTE_14.05678,HMA_DTE_14.05259,HMA_DTE_14.03405,HMA_DTE_14.03869,HMA_DTE_14.04477,HMA_DTE_14.04068,HMA_DTE_14.05261,HMA_DTE_14.05260,HMA_DTE_14.03531,HMA_DTE_14.03405,HMA_DTE_14.03893,HMA_DTE_14.03061,HMA_DTE_14.01391,HMA_DTE_14.03263,HMA_DTE_14.03055,HMA_DTE_14.04040,HMA_DTE_14.08117,HMA_DTE_14.08075,HMA_DTE_14.08228,HMA_DTE_14.08531,HMA_DTE_14.02357,HMA_DTE_14.03017,HMA_DTE_14.02896,HMA_DTE_14.02900,HMA_DTE_14.02158,HMA_DTE_14.02150,HMA_DTE_14.02192,HMA_DTE_14.01670,HMA_DTE_14.01964,HMA_DTE_14.02849,HMA_DTE_14.04869,HMA_DTE_14.04884,HMA_DTE_14.04872,HMA_DTE_14.04882,HMA_DTE_14.05627,HMA_DTE_14.05630,HMA_DTE_14.04701,HMA_DTE_14.04638,HMA_DTE_14.05648,HMA_DTE_14.04627,HMA_DTE_14.05649,HMA_DTE_14.00032,HMA_DTE_14.04869,HMA_DTE_14.11354,HMA_DTE_14.07199,HMA_DTE_14.07195,HMA_DTE_14.07342,HMA_DTE_14.07136,HMA_DTE_14.04822,HMA_DTE_14.04820,HMA_DTE_14.05666,HMA_DTE_14.00005,HMA_DTE_14.06580,HMA_DTE_14.05167,HMA_DTE_14.05166,HMA_DTE_14.04769,HMA_DTE_14.04668,HMA_DTE_14.04695,HMA_DTE_14.05165,HMA_DTE_14.05163,HMA_DTE_14.04593,HMA_DTE_14.04411,HMA_DTE_14.06675,HMA_DTE_14.08323,HMA_DTE_14.08107,HMA_DTE_14.09874,HMA_DTE_14.06580,HMA_DTE_14.04668,HMA_DTE_14.05996,HMA_DTE_14.05690,HMA_DTE_14.05688,HMA_DTE_14.05691,HMA_DTE_14.04605,HMA_DTE_14.05184,HMA_DTE_14.04593,HMA_DTE_14.05186,HMA_DTE_14.05185,HMA_DTE_14.05191,HMA_DTE_14.11324,HMA_DTE_14.05192,HMA_DTE_14.05695,HMA_DTE_14.05226,HMA_DTE_14.04411,HMA_DTE_14.05189,HMA_DTE_14.05190,HMA_DTE_14.05188,HMA_DTE_14.05187,HMA_DTE_14.04303,HMA_DTE_14.04228,HMA_DTE_14.10589,HMA_DTE_14.10738,HMA_DTE_14.05286,HMA_DTE_14.04390,HMA_DTE_14.05284,HMA_DTE_14.04291,HMA_DTE_14.04477,HMA_DTE_14.05283,HMA_DTE_14.04404,HMA_DTE_14.05282,HMA_DTE_14.03334,HMA_DTE_14.04531,HMA_DTE_14.03250,HMA_DTE_14.01998,HMA_DTE_14.01893,HMA_DTE_14.02674,HMA_DTE_14.04884,HMA_DTE_14.05032,HMA_DTE_14.04945,HMA_DTE_14.05614,HMA_DTE_14.04868,HMA_DTE_14.04872,HMA_DTE_14.04807,HMA_DTE_14.04863,HMA_DTE_14.04828,HMA_DTE_14.04832,HMA_DTE_14.08184,HMA_DTE_14.09834,HMA_DTE_14.08300,HMA_DTE_14.08301,HMA_DTE_14.08081,HMA_DTE_14.07987,HMA_DTE_14.07794,HMA_DTE_14.08083,HMA_DTE_14.07585,HMA_DTE_14.05162,HMA_DTE_14.04978,HMA_DTE_14.00005,HMA_DTE_14.04668,HMA_DTE_14.04777,HMA_DTE_14.04411,HMA_DTE_14.04291,HMA_DTE_14.04477,HMA_DTE_14.04404,HMA_DTE_14.02482,HMA_DTE_14.02192,HMA_DTE_14.02849,HMA_DTE_14.07524,HMA_DTE_14.09908,HMA_DTE_14.09907,HMA_DTE_14.07250,HMA_DTE_14.09941,HMA_DTE_14.07239,HMA_DTE_14.09919,HMA_DTE_14.05916,HMA_DTE_14.07477,HMA_DTE_14.09934,HMA_DTE_14.06675,HMA_DTE_14.06794,HMA_DTE_14.05568,HMA_DTE_14.02568,HMA_DTE_14.05597,HMA_DTE_14.04585,HMA_DTE_14.04498,HMA_DTE_14.05460,HMA_DTE_14.03694,HMA_DTE_14.05461,HMA_DTE_14.00072,HMA_DTE_14.05451,HMA_DTE_14.03017,HMA_DTE_14.02653,HMA_DTE_14.03384,HMA_DTE_14.03338,HMA_DTE_14.03333,HMA_DTE_14.05446,HMA_DTE_14.05429,HMA_DTE_14.03017,HMA_DTE_14.04701,HMA_DTE_14.04638,HMA_DTE_14.07369,HMA_DTE_14.07342,HMA_DTE_14.09952,HMA_DTE_14.06794,HMA_DTE_14.07422,HMA_DTE_14.02010,HMA_DTE_14.01489,HMA_DTE_14.03017,HMA_DTE_14.02653,HMA_DTE_14.02150,HMA_DTE_14.05585,HMA_DTE_14.04464,HMA_DTE_14.04584,HMA_DTE_14.04450,HMA_DTE_14.04473,HMA_DTE_14.04452,HMA_DTE_14.04585,HMA_DTE_14.04498,HMA_DTE_14.04178,HMA_DTE_14.04622,HMA_DTE_14.05590,HMA_DTE_14.04621,HMA_DTE_14.00032,HMA_DTE_14.08610,HMA_DTE_14.08555,HMA_DTE_14.11344,HMA_DTE_14.11343,HMA_DTE_14.11341,HMA_DTE_14.07756,HMA_DTE_14.05890,HMA_DTE_14.07524,HMA_DTE_14.10823,HMA_DTE_14.04777,HMA_DTE_14.04782,HMA_DTE_14.05652,HMA_DTE_14.04477,HMA_DTE_14.04590,HMA_DTE_14.04473,HMA_DTE_14.04587,HMA_DTE_14.04563,HMA_DTE_14.04539,HMA_DTE_14.04498,HMA_DTE_14.00036,HMA_DTE_14.04445,HMA_DTE_14.07500,HMA_DTE_14.07385,HMA_DTE_14.07243,HMA_DTE_14.08610,HMA_DTE_14.08520,HMA_DTE_14.08485,HMA_DTE_14.05885,HMA_DTE_14.07524,HMA_DTE_14.07809,HMA_DTE_14.11350,HMA_DTE_14.11353,HMA_DTE_14.05872,HMA_DTE_14.10165,HMA_DTE_14.05876,HMA_DTE_14.02882,HMA_DTE_14.02183,HMA_DTE_14.02192,HMA_DTE_14.02849,HMA_DTE_14.02765,HMA_DTE_14.02343,HMA_DTE_14.08505,HMA_DTE_14.05481,HMA_DTE_14.05480,HMA_DTE_14.02192,HMA_DTE_14.01670,HMA_DTE_14.03658,HMA_DTE_14.02849,HMA_DTE_14.05916,HMA_DTE_14.09952,HMA_DTE_14.09945,HMA_DTE_14.06794,HMA_DTE_14.00005,HMA_DTE_14.04638,HMA_DTE_14.04494,HMA_DTE_14.05644,HMA_DTE_14.04477,HMA_DTE_14.04483,HMA_DTE_14.04481,HMA_DTE_14.04404,HMA_DTE_14.05255,HMA_DTE_14.05254,HMA_DTE_14.04068,HMA_DTE_14.03334,HMA_DTE_14.03405,HMA_DTE_14.03893,HMA_DTE_14.03837,HMA_DTE_14.19746,HMA_DTE_14.19054,HMA_DTE_14.20144,HMA_DTE_14.16318,HMA_DTE_14.18520,HMA_DTE_14.17286,HMA_DTE_14.17471,HMA_DTE_14.17977,HMA_DTE_14.17976,HMA_DTE_14.18462,HMA_DTE_14.16093,HMA_DTE_14.18513,HMA_DTE_14.19342,HMA_DTE_14.18548,HMA_DTE_14.17987,HMA_DTE_14.18977,HMA_DTE_14.17990,HMA_DTE_14.18949,HMA_DTE_14.18750,HMA_DTE_14.17262,HMA_DTE_14.18193,HMA_DTE_14.18189,HMA_DTE_14.18970,HMA_DTE_14.18181,HMA_DTE_14.18180,HMA_DTE_14.16466,HMA_DTE_14.16425,HMA_DTE_14.19877,HMA_DTE_14.19344,HMA_DTE_14.20143,HMA_DTE_14.20154,HMA_DTE_14.17251,HMA_DTE_14.17550,HMA_DTE_14.17305,HMA_DTE_14.15002,HMA_DTE_14.15011,HMA_DTE_14.15170,HMA_DTE_14.15087,HMA_DTE_14.15099,HMA_DTE_14.16395,HMA_DTE_14.20167,HMA_DTE_14.20157,HMA_DTE_14.18979,HMA_DTE_14.18940,HMA_DTE_14.17614,HMA_DTE_14.17610,HMA_DTE_14.17284,HMA_DTE_14.17252,HMA_DTE_14.18004,HMA_DTE_14.18222,HMA_DTE_14.18221,HMA_DTE_14.18220,HMA_DTE_14.17999,HMA_DTE_14.17249,HMA_DTE_14.18964,HMA_DTE_14.19878,HMA_DTE_14.19732,HMA_DTE_14.19416,HMA_DTE_14.17795,'"
      ]
     },
     "execution_count": 103,
     "metadata": {},
     "output_type": "execute_result"
    }
   ],
   "source": [
    "test3"
   ]
  },
  {
   "cell_type": "code",
   "execution_count": 104,
   "id": "ed6ca446-1cc1-495e-b632-f67a811234c3",
   "metadata": {
    "tags": []
   },
   "outputs": [
    {
     "data": {
      "text/plain": [
       "'HMA_DTE_14.17302,HMA_DTE_14.17300,HMA_DTE_14.18483,HMA_DTE_14.20031,HMA_DTE_14.20033,HMA_DTE_14.20030,HMA_DTE_14.14820,HMA_DTE_14.17250,HMA_DTE_14.20026,HMA_DTE_14.20025,HMA_DTE_14.20211,HMA_DTE_14.17248,HMA_DTE_14.18195,HMA_DTE_14.20156,HMA_DTE_14.20029,HMA_DTE_14.20210,HMA_DTE_14.19942,HMA_DTE_14.20162,HMA_DTE_14.20213,HMA_DTE_14.19394,HMA_DTE_14.20211,HMA_DTE_14.17289,HMA_DTE_14.18218,HMA_DTE_14.18977,HMA_DTE_14.19728,HMA_DTE_14.17266,HMA_DTE_14.17928,HMA_DTE_14.17265,HMA_DTE_14.17273,HMA_DTE_14.17910,HMA_DTE_14.17912,HMA_DTE_14.17911,HMA_DTE_14.20212,HMA_DTE_14.17642,HMA_DTE_14.17290,HMA_DTE_14.17285,HMA_DTE_14.17287,HMA_DTE_14.17630,HMA_DTE_14.18918,HMA_DTE_14.18975,HMA_DTE_14.20145,HMA_DTE_14.20144,HMA_DTE_14.21310,HMA_DTE_14.19759,HMA_DTE_14.17296,HMA_DTE_14.14970,HMA_DTE_14.14986,HMA_DTE_14.17304,HMA_DTE_14.17683,HMA_DTE_14.17682,HMA_DTE_14.18423,HMA_DTE_14.17281,HMA_DTE_14.17975,HMA_DTE_14.18466,HMA_DTE_14.18468,HMA_DTE_14.18467,HMA_DTE_14.17256,HMA_DTE_14.17064,HMA_DTE_14.16091,HMA_DTE_14.16462,HMA_DTE_14.17161,HMA_DTE_14.17800,HMA_DTE_14.17811,HMA_DTE_14.17814,HMA_DTE_14.19392,HMA_DTE_14.19948,HMA_DTE_14.20146,HMA_DTE_14.20155,HMA_DTE_14.19942,HMA_DTE_14.20154,HMA_DTE_14.17887,HMA_DTE_14.17897,HMA_DTE_14.17888,HMA_DTE_14.17279,HMA_DTE_14.17269,HMA_DTE_14.18123,HMA_DTE_14.18122,HMA_DTE_14.18446,HMA_DTE_14.18981'"
      ]
     },
     "execution_count": 104,
     "metadata": {},
     "output_type": "execute_result"
    }
   ],
   "source": [
    "test4"
   ]
  }
 ],
 "metadata": {
  "kernelspec": {
   "display_name": "Python 3 (ipykernel)",
   "language": "python",
   "name": "python3"
  },
  "language_info": {
   "codemirror_mode": {
    "name": "ipython",
    "version": 3
   },
   "file_extension": ".py",
   "mimetype": "text/x-python",
   "name": "python",
   "nbconvert_exporter": "python",
   "pygments_lexer": "ipython3",
   "version": "3.8.17"
  }
 },
 "nbformat": 4,
 "nbformat_minor": 5
}
